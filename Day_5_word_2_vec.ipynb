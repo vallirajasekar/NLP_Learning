{
  "nbformat": 4,
  "nbformat_minor": 0,
  "metadata": {
    "colab": {
      "provenance": [],
      "authorship_tag": "ABX9TyPzghDf90y0vbV28EKlT1Sv",
      "include_colab_link": true
    },
    "kernelspec": {
      "name": "python3",
      "display_name": "Python 3"
    },
    "language_info": {
      "name": "python"
    },
    "accelerator": "TPU"
  },
  "cells": [
    {
      "cell_type": "markdown",
      "metadata": {
        "id": "view-in-github",
        "colab_type": "text"
      },
      "source": [
        "<a href=\"https://colab.research.google.com/github/vallirajasekar/NLP_Learning/blob/main/Day_5_word_2_vec.ipynb\" target=\"_parent\"><img src=\"https://colab.research.google.com/assets/colab-badge.svg\" alt=\"Open In Colab\"/></a>"
      ]
    },
    {
      "cell_type": "code",
      "execution_count": null,
      "metadata": {
        "id": "uBQ-i6mQYybP"
      },
      "outputs": [],
      "source": [
        "import gensim"
      ]
    },
    {
      "cell_type": "markdown",
      "source": [],
      "metadata": {
        "id": "BVit35HlsIlE"
      }
    },
    {
      "cell_type": "code",
      "source": [
        "from gensim.models import Word2Vec,keyedvectors"
      ],
      "metadata": {
        "id": "ndEDpMpGY8BP"
      },
      "execution_count": null,
      "outputs": []
    },
    {
      "cell_type": "code",
      "source": [
        "import gensim.downloader as api"
      ],
      "metadata": {
        "id": "ey-F3UmdY-oq"
      },
      "execution_count": null,
      "outputs": []
    },
    {
      "cell_type": "code",
      "source": [
        "wv=api.load('word2vec-google-news-300')"
      ],
      "metadata": {
        "colab": {
          "base_uri": "https://localhost:8080/"
        },
        "id": "fXaRhrrxZA--",
        "outputId": "5b8ad0fa-6e92-4747-e111-6ffc5d51c32a"
      },
      "execution_count": null,
      "outputs": [
        {
          "output_type": "stream",
          "name": "stdout",
          "text": [
            "[==================================================] 100.0% 1662.8/1662.8MB downloaded\n"
          ]
        }
      ]
    },
    {
      "cell_type": "code",
      "source": [
        "wv['Kings']"
      ],
      "metadata": {
        "colab": {
          "base_uri": "https://localhost:8080/"
        },
        "id": "p6GhLWtrjcN-",
        "outputId": "9d208e9a-11b1-4656-af9b-7a06ee9bb317"
      },
      "execution_count": null,
      "outputs": [
        {
          "output_type": "execute_result",
          "data": {
            "text/plain": [
              "array([-3.73535156e-02, -1.17187500e-01, -1.16210938e-01,  2.98828125e-01,\n",
              "       -4.66308594e-02, -1.51367188e-01, -1.94335938e-01,  2.86865234e-02,\n",
              "       -6.54296875e-02,  1.59179688e-01,  5.73730469e-02,  5.35156250e-01,\n",
              "       -5.78613281e-02,  3.35937500e-01, -1.39648438e-01, -3.32031250e-01,\n",
              "       -8.83789062e-02,  8.54492188e-02, -6.88476562e-02,  3.53515625e-01,\n",
              "        1.39648438e-01,  7.91015625e-02, -6.82830811e-04, -2.35351562e-01,\n",
              "       -1.68457031e-02,  1.26953125e-01, -1.91650391e-02, -1.49414062e-01,\n",
              "        1.70898438e-01, -1.47460938e-01, -9.37500000e-02, -1.08398438e-01,\n",
              "       -2.23388672e-02,  3.00781250e-01, -9.03320312e-02,  2.77343750e-01,\n",
              "        4.82421875e-01, -7.99560547e-03, -3.22265625e-01,  7.66601562e-02,\n",
              "       -1.39770508e-02, -4.49218750e-01, -2.07031250e-01, -3.80859375e-02,\n",
              "        1.52343750e-01,  6.44531250e-02,  4.15039062e-02, -1.66015625e-01,\n",
              "        5.31005859e-03,  3.63281250e-01,  2.01416016e-02,  2.94921875e-01,\n",
              "        2.18750000e-01, -3.37890625e-01,  3.88671875e-01,  1.64062500e-01,\n",
              "       -1.50390625e-01,  3.88671875e-01, -8.64257812e-02,  9.15527344e-03,\n",
              "       -6.64062500e-02,  3.49609375e-01,  2.65625000e-01, -2.94189453e-02,\n",
              "       -2.59765625e-01, -2.73437500e-01,  1.12304688e-01, -2.30712891e-02,\n",
              "        2.44140625e-01, -4.37011719e-02,  2.26562500e-01, -2.07031250e-01,\n",
              "       -1.79687500e-01, -9.61914062e-02, -2.05078125e-01, -2.75390625e-01,\n",
              "       -1.40625000e-01, -1.32812500e-01, -1.97753906e-02, -1.38092041e-03,\n",
              "       -3.28125000e-01,  4.08203125e-01, -3.06396484e-02, -4.30297852e-03,\n",
              "        3.02734375e-01,  2.27539062e-01, -3.26171875e-01,  1.66992188e-01,\n",
              "        3.33984375e-01, -1.21093750e-01,  1.56250000e-01, -3.20312500e-01,\n",
              "       -1.95312500e-01, -2.91015625e-01,  2.25585938e-01,  2.02148438e-01,\n",
              "       -1.11816406e-01, -9.86328125e-02, -1.25000000e-01,  6.49414062e-02,\n",
              "       -1.03027344e-01,  1.19140625e-01,  1.16577148e-02, -9.22851562e-02,\n",
              "        1.73828125e-01, -3.26171875e-01,  8.78906250e-02, -2.53906250e-01,\n",
              "        2.94921875e-01, -2.81250000e-01,  3.00781250e-01,  2.96875000e-01,\n",
              "       -6.12792969e-02, -3.24218750e-01,  1.76757812e-01, -3.65234375e-01,\n",
              "        2.51953125e-01, -1.09863281e-01, -4.19921875e-02,  3.24218750e-01,\n",
              "       -1.25976562e-01, -2.45117188e-01, -1.72851562e-01,  2.07519531e-02,\n",
              "        8.31604004e-04,  2.89306641e-02,  7.37304688e-02, -2.10937500e-01,\n",
              "       -2.75390625e-01,  7.17773438e-02, -8.05664062e-02,  1.01074219e-01,\n",
              "       -4.12109375e-01,  2.81250000e-01, -2.39257812e-01, -1.06445312e-01,\n",
              "       -1.06933594e-01,  7.47070312e-02, -1.55273438e-01,  2.46093750e-01,\n",
              "        3.35937500e-01, -4.00390625e-01, -5.32226562e-02,  1.38671875e-01,\n",
              "        1.87988281e-02,  1.89453125e-01,  3.41796875e-02, -1.71875000e-01,\n",
              "       -2.59765625e-01,  1.85546875e-01, -5.18798828e-04,  3.11279297e-03,\n",
              "       -2.53906250e-02,  1.04980469e-02,  2.51953125e-01,  9.71679688e-02,\n",
              "       -8.88671875e-02, -1.13281250e-01, -1.76757812e-01, -3.78417969e-02,\n",
              "       -7.03125000e-02,  2.35351562e-01,  9.39941406e-03,  2.11914062e-01,\n",
              "        2.12890625e-01, -6.39648438e-02, -7.95898438e-02, -2.06054688e-01,\n",
              "        8.64257812e-02,  4.39453125e-02, -1.25000000e-01, -2.91015625e-01,\n",
              "        1.13525391e-02, -1.96289062e-01,  9.08203125e-02, -1.79687500e-01,\n",
              "       -1.54296875e-01, -2.40234375e-01,  1.14257812e-01,  9.81445312e-02,\n",
              "       -1.79687500e-01,  3.02734375e-01,  1.20605469e-01, -2.35351562e-01,\n",
              "       -2.24609375e-01, -1.47460938e-01,  8.83789062e-02, -3.19824219e-02,\n",
              "        1.40625000e-01,  1.98974609e-02, -1.66015625e-01,  7.66601562e-02,\n",
              "        1.16210938e-01,  2.38281250e-01, -1.52343750e-01,  5.40161133e-03,\n",
              "        9.32617188e-02,  1.79687500e-01, -1.47460938e-01, -2.35595703e-02,\n",
              "        3.80859375e-01, -4.35546875e-01,  7.51953125e-02, -1.01074219e-01,\n",
              "        2.15820312e-01, -4.49218750e-02,  1.58203125e-01,  2.09960938e-01,\n",
              "        3.75976562e-02,  4.34570312e-02, -1.89208984e-02,  6.59179688e-02,\n",
              "        1.53808594e-02, -2.37304688e-01, -4.35546875e-01,  2.18750000e-01,\n",
              "        1.20605469e-01,  1.77001953e-02,  7.71484375e-02, -6.83593750e-02,\n",
              "        6.54296875e-02,  2.65625000e-01, -1.44531250e-01, -1.37695312e-01,\n",
              "        5.71289062e-02, -1.41601562e-01,  9.88769531e-03,  2.38037109e-02,\n",
              "        5.20019531e-02,  1.78222656e-02, -2.79296875e-01, -1.35498047e-02,\n",
              "        3.20312500e-01,  1.33789062e-01, -1.56250000e-01,  9.42382812e-02,\n",
              "        6.98242188e-02, -2.75390625e-01,  3.28125000e-01, -5.88378906e-02,\n",
              "        3.41796875e-01,  1.45263672e-02,  1.13281250e-01, -5.15625000e-01,\n",
              "        9.81445312e-02, -2.09960938e-01, -3.61328125e-01,  2.65625000e-01,\n",
              "       -3.51562500e-02, -2.61718750e-01,  1.53350830e-03, -1.91406250e-01,\n",
              "        1.94335938e-01,  7.56835938e-02,  1.19140625e-01,  2.51953125e-01,\n",
              "        2.24609375e-01, -1.90429688e-01, -4.19921875e-02, -1.81640625e-01,\n",
              "       -6.54296875e-02,  3.01513672e-02,  6.07910156e-02, -1.09375000e-01,\n",
              "       -1.67236328e-02,  1.73828125e-01, -3.35937500e-01, -1.91406250e-01,\n",
              "        7.95898438e-02,  1.75781250e-01, -4.88281250e-02, -2.71484375e-01,\n",
              "        4.15039062e-02,  2.37304688e-01,  3.28125000e-01,  7.17773438e-02,\n",
              "        1.56250000e-01, -1.07910156e-01, -4.70703125e-01, -8.00781250e-02,\n",
              "       -3.24218750e-01, -3.75366211e-03,  1.96289062e-01,  3.03955078e-02,\n",
              "        1.23535156e-01, -7.17773438e-02,  1.45507812e-01,  1.95312500e-01,\n",
              "        3.05175781e-02,  1.61132812e-01,  2.89062500e-01, -3.61328125e-02,\n",
              "        2.38281250e-01,  8.59375000e-02, -7.81250000e-02, -3.76953125e-01,\n",
              "       -2.50000000e-01, -1.81640625e-01, -2.65625000e-01,  3.36914062e-02],\n",
              "      dtype=float32)"
            ]
          },
          "metadata": {},
          "execution_count": 6
        }
      ]
    },
    {
      "cell_type": "code",
      "source": [
        "wv['sachin']"
      ],
      "metadata": {
        "colab": {
          "base_uri": "https://localhost:8080/"
        },
        "id": "-HeyRxaqjqF9",
        "outputId": "ebeb6518-d247-489d-890b-5665b772e5c4"
      },
      "execution_count": null,
      "outputs": [
        {
          "output_type": "execute_result",
          "data": {
            "text/plain": [
              "array([-2.37304688e-01,  6.12792969e-02,  1.58203125e-01,  3.65234375e-01,\n",
              "        3.78417969e-02, -1.17187500e-01,  2.34375000e-01, -2.55859375e-01,\n",
              "        1.58203125e-01, -1.00585938e-01, -7.47070312e-02, -2.46093750e-01,\n",
              "        1.37695312e-01,  1.92382812e-01,  4.85839844e-02,  2.25585938e-01,\n",
              "        1.84570312e-01,  5.24902344e-02,  2.78320312e-02,  2.99072266e-02,\n",
              "       -2.00195312e-01, -1.86523438e-01,  2.59765625e-01, -2.94921875e-01,\n",
              "       -1.16699219e-01,  2.30712891e-02, -2.98828125e-01, -1.59912109e-02,\n",
              "        2.33398438e-01, -2.31445312e-01, -6.17675781e-02,  1.57226562e-01,\n",
              "       -1.57226562e-01,  4.78515625e-02, -4.60937500e-01,  8.05664062e-02,\n",
              "       -2.50000000e-01,  4.10156250e-02,  2.07031250e-01,  1.83593750e-01,\n",
              "        2.57812500e-01, -5.15136719e-02,  2.77343750e-01,  2.71484375e-01,\n",
              "        1.96289062e-01, -7.95898438e-02, -2.69775391e-02, -2.81250000e-01,\n",
              "       -5.51757812e-02, -1.10351562e-01, -2.23632812e-01,  5.34667969e-02,\n",
              "        6.68945312e-02, -1.11694336e-02,  9.17968750e-02, -1.22070312e-01,\n",
              "        4.73022461e-03, -1.58203125e-01, -2.47802734e-02, -1.96289062e-01,\n",
              "        5.90820312e-02, -9.91210938e-02, -1.81640625e-01, -2.40234375e-01,\n",
              "       -3.73535156e-02,  8.93554688e-02,  2.20703125e-01, -1.05957031e-01,\n",
              "        1.72851562e-01,  1.71875000e-01, -1.12915039e-02,  7.51953125e-02,\n",
              "       -9.52148438e-02, -2.51953125e-01, -2.06054688e-01, -2.59765625e-01,\n",
              "       -6.68945312e-02, -2.51953125e-01, -6.78710938e-02, -8.15429688e-02,\n",
              "       -2.16796875e-01,  3.20312500e-01, -1.25000000e-01, -5.83496094e-02,\n",
              "        2.59765625e-01,  1.48437500e-01, -3.75976562e-02,  2.08984375e-01,\n",
              "        1.01074219e-01, -5.12695312e-03, -4.32128906e-02,  8.30078125e-02,\n",
              "       -2.27539062e-01,  1.59179688e-01, -1.40625000e-01,  1.56250000e-01,\n",
              "        1.87500000e-01, -4.78515625e-02,  3.86718750e-01,  4.49218750e-02,\n",
              "       -1.87988281e-02,  2.02148438e-01,  1.25976562e-01,  1.53320312e-01,\n",
              "       -1.21093750e-01,  9.13085938e-02,  5.98144531e-02,  1.52343750e-01,\n",
              "        7.76367188e-02,  3.39355469e-02,  2.25830078e-03, -1.37695312e-01,\n",
              "        1.13769531e-01, -1.87500000e-01,  2.47070312e-01,  3.46679688e-02,\n",
              "       -1.73828125e-01, -3.90625000e-01,  5.88378906e-02, -6.10351562e-02,\n",
              "       -1.57470703e-02,  1.24511719e-01, -1.33789062e-01,  3.06640625e-01,\n",
              "       -1.77001953e-02,  9.76562500e-02, -2.25830078e-02,  1.09375000e-01,\n",
              "       -1.40625000e-01, -1.71875000e-01, -2.98828125e-01,  1.03027344e-01,\n",
              "       -7.32421875e-02, -1.47460938e-01,  7.08007812e-02, -1.49414062e-01,\n",
              "       -2.51953125e-01,  2.58789062e-02,  1.94335938e-01,  1.90429688e-01,\n",
              "        3.16406250e-01, -3.46679688e-02,  3.68652344e-02, -1.61132812e-01,\n",
              "       -3.30078125e-01,  2.46093750e-01,  7.76367188e-02, -1.42211914e-02,\n",
              "        1.44531250e-01, -2.46582031e-02,  2.03125000e-01, -2.63671875e-01,\n",
              "       -3.14453125e-01, -4.23828125e-01, -3.86718750e-01, -3.32031250e-01,\n",
              "       -4.32128906e-02,  7.32421875e-02,  2.13623047e-02, -1.25000000e-01,\n",
              "       -2.77343750e-01, -1.85546875e-02,  1.25000000e-01, -2.51953125e-01,\n",
              "       -6.74438477e-03, -4.41406250e-01,  1.37695312e-01, -6.39648438e-02,\n",
              "       -2.25585938e-01,  3.08593750e-01, -2.77343750e-01,  1.33789062e-01,\n",
              "        2.60009766e-02, -2.46093750e-01, -1.95312500e-01,  3.80859375e-02,\n",
              "        3.47656250e-01, -2.92968750e-01,  8.25195312e-02, -2.00195312e-01,\n",
              "       -4.15039062e-02,  4.00390625e-01,  7.03125000e-02,  3.80859375e-02,\n",
              "        1.15234375e-01,  1.29882812e-01,  3.80859375e-02, -3.20312500e-01,\n",
              "        2.33398438e-01,  1.62353516e-02, -4.39453125e-02,  3.45703125e-01,\n",
              "       -4.74609375e-01, -3.06396484e-02,  3.92578125e-01, -9.22851562e-02,\n",
              "       -4.44335938e-02,  1.77734375e-01, -1.02519989e-04, -2.65625000e-01,\n",
              "       -1.80664062e-01, -7.37304688e-02, -3.20312500e-01, -1.80664062e-01,\n",
              "       -1.90429688e-01, -2.26562500e-01, -1.06445312e-01, -8.10546875e-02,\n",
              "       -4.05883789e-03,  1.35742188e-01,  1.04980469e-01,  3.32031250e-01,\n",
              "       -2.24609375e-01, -4.21875000e-01, -2.04101562e-01, -4.80957031e-02,\n",
              "        1.59912109e-02,  2.53906250e-01, -2.05078125e-01, -1.43554688e-01,\n",
              "       -8.54492188e-02,  7.22656250e-02, -3.97949219e-02,  1.12792969e-01,\n",
              "        3.07083130e-04,  1.01562500e-01,  2.79296875e-01, -3.06640625e-01,\n",
              "        2.19726562e-02,  1.47460938e-01, -1.47460938e-01,  1.48437500e-01,\n",
              "       -2.29492188e-02, -1.56250000e-01,  2.50000000e-01, -6.44531250e-02,\n",
              "        1.53320312e-01,  1.01928711e-02,  1.27929688e-01, -4.93164062e-02,\n",
              "        3.45703125e-01,  2.63671875e-01,  2.69531250e-01, -4.61425781e-02,\n",
              "       -3.18359375e-01,  1.98364258e-03, -2.27050781e-02,  1.17187500e-01,\n",
              "       -1.47247314e-03, -8.20312500e-02,  3.16406250e-01, -9.58251953e-03,\n",
              "        5.71289062e-02,  2.50000000e-01,  3.12500000e-01,  1.47705078e-02,\n",
              "        1.31835938e-01, -7.27539062e-02,  7.37304688e-02, -2.96875000e-01,\n",
              "       -7.76367188e-02,  2.87109375e-01,  1.09375000e-01, -1.19628906e-01,\n",
              "        6.93359375e-02, -1.47094727e-02, -6.20117188e-02,  5.66406250e-02,\n",
              "       -1.19628906e-02, -4.10156250e-01, -2.81250000e-01,  3.44848633e-03,\n",
              "       -4.80957031e-02,  1.18164062e-01,  1.47460938e-01, -6.83593750e-02,\n",
              "        6.64062500e-02, -1.71875000e-01, -1.85546875e-01,  9.27734375e-02,\n",
              "       -9.37500000e-02,  3.34167480e-03, -2.58789062e-02,  8.36181641e-03,\n",
              "        2.06298828e-02, -2.06298828e-02,  1.19628906e-01,  1.76757812e-01,\n",
              "       -2.02148438e-01,  1.93359375e-01,  1.77734375e-01,  1.87500000e-01,\n",
              "        3.10058594e-02, -1.84570312e-01, -7.91015625e-02, -2.80761719e-02,\n",
              "       -6.15234375e-02,  6.93359375e-02, -1.46484375e-01, -3.17382812e-02],\n",
              "      dtype=float32)"
            ]
          },
          "metadata": {},
          "execution_count": 7
        }
      ]
    },
    {
      "cell_type": "code",
      "source": [
        "wv.most_similar('man')"
      ],
      "metadata": {
        "colab": {
          "base_uri": "https://localhost:8080/"
        },
        "id": "efLE5axLjseV",
        "outputId": "b9a38610-707b-4d1c-94f7-2c9eb4ab12d7"
      },
      "execution_count": null,
      "outputs": [
        {
          "output_type": "execute_result",
          "data": {
            "text/plain": [
              "[('woman', 0.7664012908935547),\n",
              " ('boy', 0.6824871301651001),\n",
              " ('teenager', 0.6586930155754089),\n",
              " ('teenage_girl', 0.6147903203964233),\n",
              " ('girl', 0.5921714305877686),\n",
              " ('suspected_purse_snatcher', 0.571636438369751),\n",
              " ('robber', 0.5585119128227234),\n",
              " ('Robbery_suspect', 0.5584409832954407),\n",
              " ('teen_ager', 0.5549196600914001),\n",
              " ('men', 0.5489763021469116)]"
            ]
          },
          "metadata": {},
          "execution_count": 8
        }
      ]
    },
    {
      "cell_type": "code",
      "source": [
        "wv.most_similar('sachin')"
      ],
      "metadata": {
        "colab": {
          "base_uri": "https://localhost:8080/"
        },
        "id": "JPOyq2Myj0xa",
        "outputId": "82cb2ed9-7a43-462a-c9dd-4c355b00d492"
      },
      "execution_count": null,
      "outputs": [
        {
          "output_type": "execute_result",
          "data": {
            "text/plain": [
              "[('tendulkar', 0.7856917381286621),\n",
              " ('ganguly', 0.7785738706588745),\n",
              " ('sehwag', 0.7773319482803345),\n",
              " ('dravid', 0.7691141366958618),\n",
              " ('sachin_tendulkar', 0.741614580154419),\n",
              " ('laxman', 0.7271499037742615),\n",
              " ('KrisSrikkanth_says', 0.6995106339454651),\n",
              " ('murali', 0.6993196606636047),\n",
              " ('afridi', 0.6891643404960632),\n",
              " ('odi', 0.6883801817893982)]"
            ]
          },
          "metadata": {},
          "execution_count": 9
        }
      ]
    },
    {
      "cell_type": "code",
      "source": [
        "wv.most_similar('king')"
      ],
      "metadata": {
        "colab": {
          "base_uri": "https://localhost:8080/"
        },
        "id": "WzQgkQuMj5k-",
        "outputId": "e517f6af-0348-4236-ea15-ef9b93e94d43"
      },
      "execution_count": null,
      "outputs": [
        {
          "output_type": "execute_result",
          "data": {
            "text/plain": [
              "[('kings', 0.7138045430183411),\n",
              " ('queen', 0.6510956883430481),\n",
              " ('monarch', 0.6413194537162781),\n",
              " ('crown_prince', 0.6204220056533813),\n",
              " ('prince', 0.6159993410110474),\n",
              " ('sultan', 0.5864824056625366),\n",
              " ('ruler', 0.5797567367553711),\n",
              " ('princes', 0.5646552443504333),\n",
              " ('Prince_Paras', 0.5432944297790527),\n",
              " ('throne', 0.5422105193138123)]"
            ]
          },
          "metadata": {},
          "execution_count": 10
        }
      ]
    },
    {
      "cell_type": "code",
      "source": [
        "wv.most_similar('chennai')"
      ],
      "metadata": {
        "colab": {
          "base_uri": "https://localhost:8080/"
        },
        "id": "sd0biO9TkDoF",
        "outputId": "e228ee38-b7e2-4f98-870e-5b262c393b02"
      },
      "execution_count": null,
      "outputs": [
        {
          "output_type": "execute_result",
          "data": {
            "text/plain": [
              "[('pune', 0.6712838411331177),\n",
              " ('india', 0.667550265789032),\n",
              " ('delhi', 0.6614565849304199),\n",
              " ('hyderabad', 0.6592930555343628),\n",
              " ('mumbai', 0.6436912417411804),\n",
              " ('kolkata', 0.6362491250038147),\n",
              " ('kerala', 0.6332582235336304),\n",
              " ('orissa', 0.6280592679977417),\n",
              " ('rahul', 0.6232461333274841),\n",
              " ('bombay', 0.6189700961112976)]"
            ]
          },
          "metadata": {},
          "execution_count": 11
        }
      ]
    },
    {
      "cell_type": "code",
      "source": [
        "wv.most_similar('pune')"
      ],
      "metadata": {
        "colab": {
          "base_uri": "https://localhost:8080/"
        },
        "id": "QzEB4wPQkK1B",
        "outputId": "461020ff-87e7-4c6c-dfed-88123b0afd67"
      },
      "execution_count": null,
      "outputs": [
        {
          "output_type": "execute_result",
          "data": {
            "text/plain": [
              "[('chennai', 0.6712837815284729),\n",
              " ('bombay', 0.6688694953918457),\n",
              " ('lucknow', 0.6641979217529297),\n",
              " ('orissa', 0.6586176156997681),\n",
              " ('hyderabad', 0.6568223237991333),\n",
              " ('suresh', 0.6354721188545227),\n",
              " ('Pune', 0.6296120882034302),\n",
              " ('kolkata', 0.6280205845832825),\n",
              " ('kerala', 0.6263408660888672),\n",
              " ('sharma', 0.6253863573074341)]"
            ]
          },
          "metadata": {},
          "execution_count": 12
        }
      ]
    },
    {
      "cell_type": "code",
      "source": [
        "wv.most_similar('goa')"
      ],
      "metadata": {
        "colab": {
          "base_uri": "https://localhost:8080/"
        },
        "id": "4LVOAc4JkP3a",
        "outputId": "332b17bd-e713-4932-c8ee-0ae7e15aec73"
      },
      "execution_count": null,
      "outputs": [
        {
          "output_type": "execute_result",
          "data": {
            "text/plain": [
              "[('tym', 0.5401601195335388),\n",
              " ('issa', 0.5395323634147644),\n",
              " ('4rm', 0.5348882675170898),\n",
              " ('lyk', 0.5190958380699158),\n",
              " ('malouda', 0.5182464718818665),\n",
              " ('saha', 0.5157965421676636),\n",
              " ('bahar', 0.5141395330429077),\n",
              " ('mikel', 0.5141184329986572),\n",
              " ('wayne_rooney', 0.5109692215919495),\n",
              " ('bhala', 0.5100680589675903)]"
            ]
          },
          "metadata": {},
          "execution_count": 15
        }
      ]
    },
    {
      "cell_type": "code",
      "source": [],
      "metadata": {
        "id": "MiJiERJDkuK3"
      },
      "execution_count": null,
      "outputs": []
    },
    {
      "cell_type": "code",
      "source": [
        "wv.most_similar('Data')"
      ],
      "metadata": {
        "colab": {
          "base_uri": "https://localhost:8080/"
        },
        "id": "bYADrJAzksXo",
        "outputId": "13c45da1-efb6-46fc-eeef-7e284bfe09d0"
      },
      "execution_count": null,
      "outputs": [
        {
          "output_type": "execute_result",
          "data": {
            "text/plain": [
              "[('data', 0.7262316346168518),\n",
              " ('Termed_Massively_Parallel', 0.5460323691368103),\n",
              " ('Data_System_IPEDS', 0.5428394079208374),\n",
              " ('Temperature_Maps', 0.5223192572593689),\n",
              " ('Analytics_Solution', 0.49304071068763733),\n",
              " ('Database', 0.4912521541118622),\n",
              " ('Partition_Master', 0.48701369762420654),\n",
              " ('QuickStudy', 0.48598507046699524),\n",
              " ('Geospatial_Data', 0.4815930426120758),\n",
              " ('Tweet_Sentiments_web', 0.4777469038963318)]"
            ]
          },
          "metadata": {},
          "execution_count": 20
        }
      ]
    },
    {
      "cell_type": "code",
      "source": [
        "wv.similarity('man','king')"
      ],
      "metadata": {
        "colab": {
          "base_uri": "https://localhost:8080/"
        },
        "id": "m2BT_Qf-kbVR",
        "outputId": "18f47e15-dcb8-4fae-b3cc-458eb65b6997"
      },
      "execution_count": null,
      "outputs": [
        {
          "output_type": "execute_result",
          "data": {
            "text/plain": [
              "0.22942673"
            ]
          },
          "metadata": {},
          "execution_count": 16
        }
      ]
    },
    {
      "cell_type": "code",
      "source": [
        "wv.similarity('man','women')"
      ],
      "metadata": {
        "colab": {
          "base_uri": "https://localhost:8080/"
        },
        "id": "XtyQqzb_kiSl",
        "outputId": "cb5bbca7-9cef-481d-fd1b-bb04ad051c5b"
      },
      "execution_count": null,
      "outputs": [
        {
          "output_type": "execute_result",
          "data": {
            "text/plain": [
              "0.2883053"
            ]
          },
          "metadata": {},
          "execution_count": 17
        }
      ]
    },
    {
      "cell_type": "code",
      "source": [
        "wv['new']=wv['king']-wv['man']+wv['girl']"
      ],
      "metadata": {
        "id": "kAPfctktmEst"
      },
      "execution_count": null,
      "outputs": []
    },
    {
      "cell_type": "code",
      "source": [
        "wv.most_similar(['new'])"
      ],
      "metadata": {
        "colab": {
          "base_uri": "https://localhost:8080/"
        },
        "id": "9_2OgvJamVMc",
        "outputId": "936002b8-fa25-4d3c-ede1-ac62da308f46"
      },
      "execution_count": null,
      "outputs": [
        {
          "output_type": "execute_result",
          "data": {
            "text/plain": [
              "[('king', 0.765661358833313),\n",
              " ('queen', 0.6720073819160461),\n",
              " ('princess', 0.6519676446914673),\n",
              " ('prince', 0.5718944668769836),\n",
              " ('monarch', 0.5569813847541809),\n",
              " ('girl', 0.5426682829856873),\n",
              " ('princesses', 0.5278744101524353),\n",
              " ('crown_prince', 0.5183970332145691),\n",
              " ('kings', 0.5110754370689392),\n",
              " ('Prince_Paras', 0.5017852783203125)]"
            ]
          },
          "metadata": {},
          "execution_count": 23
        }
      ]
    },
    {
      "cell_type": "code",
      "source": [
        "wv['new']=wv['dhoni']-wv['pant']+wv['rohit']"
      ],
      "metadata": {
        "id": "2-jotgcmmfPB"
      },
      "execution_count": null,
      "outputs": []
    },
    {
      "cell_type": "code",
      "source": [
        "wv.most_similar(['new'])"
      ],
      "metadata": {
        "colab": {
          "base_uri": "https://localhost:8080/"
        },
        "id": "4yVp9gmJmo2k",
        "outputId": "204e66b2-4a19-4f5a-f642-2d5b7bc6609e"
      },
      "execution_count": null,
      "outputs": [
        {
          "output_type": "execute_result",
          "data": {
            "text/plain": [
              "[('dhoni', 0.6786987781524658),\n",
              " ('Paranavithana', 0.4654320478439331),\n",
              " ('sehwag', 0.43938130140304565),\n",
              " ('rohit', 0.43875885009765625),\n",
              " ('Hershelle_Gibbs', 0.4352143406867981),\n",
              " ('Binod_Das', 0.43478283286094666),\n",
              " ('Jayasuria', 0.4296184778213501),\n",
              " ('Tilakaratne_Dilshan', 0.42785146832466125),\n",
              " ('Gaafu_Dhaalu_atoll', 0.4273207187652588),\n",
              " ('Hashan_Tillekeratne', 0.4255143404006958)]"
            ]
          },
          "metadata": {},
          "execution_count": 25
        }
      ]
    },
    {
      "cell_type": "code",
      "source": [
        "wv.most_similar(['pant'])"
      ],
      "metadata": {
        "colab": {
          "base_uri": "https://localhost:8080/"
        },
        "id": "B0WqxM-lm4ZV",
        "outputId": "100fb4f2-1f69-47e6-dda9-5d45bc25d205"
      },
      "execution_count": null,
      "outputs": [
        {
          "output_type": "execute_result",
          "data": {
            "text/plain": [
              "[('trouser', 0.641515851020813),\n",
              " ('pants', 0.6320861577987671),\n",
              " ('leggings', 0.6175554990768433),\n",
              " ('jeans', 0.6117405891418457),\n",
              " ('bootcut', 0.6107251644134521),\n",
              " ('trousers', 0.6067577600479126),\n",
              " ('denims', 0.6040917038917542),\n",
              " ('denim_trousers', 0.6009911298751831),\n",
              " ('maxi_skirt', 0.6007580757141113),\n",
              " ('camis', 0.6002790927886963)]"
            ]
          },
          "metadata": {},
          "execution_count": 28
        }
      ]
    },
    {
      "cell_type": "code",
      "source": [
        "wv.most_similar(['modi'])"
      ],
      "metadata": {
        "colab": {
          "base_uri": "https://localhost:8080/"
        },
        "id": "NOYaHethnIpT",
        "outputId": "1023a8ae-8e38-4308-af4c-a9fcfd0b6491"
      },
      "execution_count": null,
      "outputs": [
        {
          "output_type": "execute_result",
          "data": {
            "text/plain": [
              "[('new', 0.8348628282546997),\n",
              " ('sonia', 0.6801087260246277),\n",
              " ('gandhi', 0.6775892972946167),\n",
              " ('advani', 0.6774588823318481),\n",
              " ('amit', 0.67608642578125),\n",
              " ('bjp', 0.6753196716308594),\n",
              " ('rahul', 0.6738477349281311),\n",
              " ('bihar', 0.6723117828369141),\n",
              " ('nitish', 0.6692695617675781),\n",
              " ('lalu', 0.6649435758590698)]"
            ]
          },
          "metadata": {},
          "execution_count": 29
        }
      ]
    },
    {
      "cell_type": "code",
      "source": [
        "wv.most_similar(['CSK'])"
      ],
      "metadata": {
        "colab": {
          "base_uri": "https://localhost:8080/"
        },
        "id": "bIMpUq_CnMtm",
        "outputId": "02161a74-9f50-45f5-aff7-cf0f6e4085fc"
      },
      "execution_count": null,
      "outputs": [
        {
          "output_type": "execute_result",
          "data": {
            "text/plain": [
              "[('new', 0.506889283657074),\n",
              " ('Knight_Riders', 0.5064428448677063),\n",
              " ('Royal_Challengers', 0.5005569458007812),\n",
              " ('Super_Kings', 0.4971355199813843),\n",
              " ('Kings_XI_Punjab', 0.4944312870502472),\n",
              " ('CSK_Auto', 0.49398452043533325),\n",
              " ('Delhi_Daredevils', 0.4888964295387268),\n",
              " ('Deccan_Chargers', 0.48345622420310974),\n",
              " ('Kings_XI', 0.48306694626808167),\n",
              " ('Rajasthan_Royals', 0.48161381483078003)]"
            ]
          },
          "metadata": {},
          "execution_count": 30
        }
      ]
    },
    {
      "cell_type": "markdown",
      "source": [
        "## Coding Part\n"
      ],
      "metadata": {
        "id": "mkM6JJedsKfm"
      }
    },
    {
      "cell_type": "code",
      "source": [
        "import pandas as pd\n",
        "import numpy as np"
      ],
      "metadata": {
        "id": "Cdy9qpaQsT5Z"
      },
      "execution_count": 9,
      "outputs": []
    },
    {
      "cell_type": "code",
      "source": [
        "df=pd.read_csv('/content/spam.csv',)"
      ],
      "metadata": {
        "id": "5ONmrY9osOS8"
      },
      "execution_count": 10,
      "outputs": []
    },
    {
      "cell_type": "code",
      "source": [
        "df.drop(['Unnamed: 2','Unnamed: 2','Unnamed: 3','Unnamed: 4'],axis=1,inplace=True)"
      ],
      "metadata": {
        "id": "nIlMiHsmswE_"
      },
      "execution_count": 11,
      "outputs": []
    },
    {
      "cell_type": "code",
      "source": [
        "df.head()"
      ],
      "metadata": {
        "colab": {
          "base_uri": "https://localhost:8080/",
          "height": 206
        },
        "id": "1BdYsicjsYAk",
        "outputId": "f400e7c0-912c-43b0-98c2-f2aeb43e1bae"
      },
      "execution_count": 12,
      "outputs": [
        {
          "output_type": "execute_result",
          "data": {
            "text/plain": [
              "     v1                                                 v2\n",
              "0   ham  Go until jurong point, crazy.. Available only ...\n",
              "1   ham                      Ok lar... Joking wif u oni...\n",
              "2  spam  Free entry in 2 a wkly comp to win FA Cup fina...\n",
              "3   ham  U dun say so early hor... U c already then say...\n",
              "4   ham  Nah I don't think he goes to usf, he lives aro..."
            ],
            "text/html": [
              "\n",
              "  <div id=\"df-a8283cdd-cc7a-4393-8516-74712a7c12d4\" class=\"colab-df-container\">\n",
              "    <div>\n",
              "<style scoped>\n",
              "    .dataframe tbody tr th:only-of-type {\n",
              "        vertical-align: middle;\n",
              "    }\n",
              "\n",
              "    .dataframe tbody tr th {\n",
              "        vertical-align: top;\n",
              "    }\n",
              "\n",
              "    .dataframe thead th {\n",
              "        text-align: right;\n",
              "    }\n",
              "</style>\n",
              "<table border=\"1\" class=\"dataframe\">\n",
              "  <thead>\n",
              "    <tr style=\"text-align: right;\">\n",
              "      <th></th>\n",
              "      <th>v1</th>\n",
              "      <th>v2</th>\n",
              "    </tr>\n",
              "  </thead>\n",
              "  <tbody>\n",
              "    <tr>\n",
              "      <th>0</th>\n",
              "      <td>ham</td>\n",
              "      <td>Go until jurong point, crazy.. Available only ...</td>\n",
              "    </tr>\n",
              "    <tr>\n",
              "      <th>1</th>\n",
              "      <td>ham</td>\n",
              "      <td>Ok lar... Joking wif u oni...</td>\n",
              "    </tr>\n",
              "    <tr>\n",
              "      <th>2</th>\n",
              "      <td>spam</td>\n",
              "      <td>Free entry in 2 a wkly comp to win FA Cup fina...</td>\n",
              "    </tr>\n",
              "    <tr>\n",
              "      <th>3</th>\n",
              "      <td>ham</td>\n",
              "      <td>U dun say so early hor... U c already then say...</td>\n",
              "    </tr>\n",
              "    <tr>\n",
              "      <th>4</th>\n",
              "      <td>ham</td>\n",
              "      <td>Nah I don't think he goes to usf, he lives aro...</td>\n",
              "    </tr>\n",
              "  </tbody>\n",
              "</table>\n",
              "</div>\n",
              "    <div class=\"colab-df-buttons\">\n",
              "\n",
              "  <div class=\"colab-df-container\">\n",
              "    <button class=\"colab-df-convert\" onclick=\"convertToInteractive('df-a8283cdd-cc7a-4393-8516-74712a7c12d4')\"\n",
              "            title=\"Convert this dataframe to an interactive table.\"\n",
              "            style=\"display:none;\">\n",
              "\n",
              "  <svg xmlns=\"http://www.w3.org/2000/svg\" height=\"24px\" viewBox=\"0 -960 960 960\">\n",
              "    <path d=\"M120-120v-720h720v720H120Zm60-500h600v-160H180v160Zm220 220h160v-160H400v160Zm0 220h160v-160H400v160ZM180-400h160v-160H180v160Zm440 0h160v-160H620v160ZM180-180h160v-160H180v160Zm440 0h160v-160H620v160Z\"/>\n",
              "  </svg>\n",
              "    </button>\n",
              "\n",
              "  <style>\n",
              "    .colab-df-container {\n",
              "      display:flex;\n",
              "      gap: 12px;\n",
              "    }\n",
              "\n",
              "    .colab-df-convert {\n",
              "      background-color: #E8F0FE;\n",
              "      border: none;\n",
              "      border-radius: 50%;\n",
              "      cursor: pointer;\n",
              "      display: none;\n",
              "      fill: #1967D2;\n",
              "      height: 32px;\n",
              "      padding: 0 0 0 0;\n",
              "      width: 32px;\n",
              "    }\n",
              "\n",
              "    .colab-df-convert:hover {\n",
              "      background-color: #E2EBFA;\n",
              "      box-shadow: 0px 1px 2px rgba(60, 64, 67, 0.3), 0px 1px 3px 1px rgba(60, 64, 67, 0.15);\n",
              "      fill: #174EA6;\n",
              "    }\n",
              "\n",
              "    .colab-df-buttons div {\n",
              "      margin-bottom: 4px;\n",
              "    }\n",
              "\n",
              "    [theme=dark] .colab-df-convert {\n",
              "      background-color: #3B4455;\n",
              "      fill: #D2E3FC;\n",
              "    }\n",
              "\n",
              "    [theme=dark] .colab-df-convert:hover {\n",
              "      background-color: #434B5C;\n",
              "      box-shadow: 0px 1px 3px 1px rgba(0, 0, 0, 0.15);\n",
              "      filter: drop-shadow(0px 1px 2px rgba(0, 0, 0, 0.3));\n",
              "      fill: #FFFFFF;\n",
              "    }\n",
              "  </style>\n",
              "\n",
              "    <script>\n",
              "      const buttonEl =\n",
              "        document.querySelector('#df-a8283cdd-cc7a-4393-8516-74712a7c12d4 button.colab-df-convert');\n",
              "      buttonEl.style.display =\n",
              "        google.colab.kernel.accessAllowed ? 'block' : 'none';\n",
              "\n",
              "      async function convertToInteractive(key) {\n",
              "        const element = document.querySelector('#df-a8283cdd-cc7a-4393-8516-74712a7c12d4');\n",
              "        const dataTable =\n",
              "          await google.colab.kernel.invokeFunction('convertToInteractive',\n",
              "                                                    [key], {});\n",
              "        if (!dataTable) return;\n",
              "\n",
              "        const docLinkHtml = 'Like what you see? Visit the ' +\n",
              "          '<a target=\"_blank\" href=https://colab.research.google.com/notebooks/data_table.ipynb>data table notebook</a>'\n",
              "          + ' to learn more about interactive tables.';\n",
              "        element.innerHTML = '';\n",
              "        dataTable['output_type'] = 'display_data';\n",
              "        await google.colab.output.renderOutput(dataTable, element);\n",
              "        const docLink = document.createElement('div');\n",
              "        docLink.innerHTML = docLinkHtml;\n",
              "        element.appendChild(docLink);\n",
              "      }\n",
              "    </script>\n",
              "  </div>\n",
              "\n",
              "\n",
              "<div id=\"df-33e18937-655b-4534-a2f9-40a45ee8493d\">\n",
              "  <button class=\"colab-df-quickchart\" onclick=\"quickchart('df-33e18937-655b-4534-a2f9-40a45ee8493d')\"\n",
              "            title=\"Suggest charts\"\n",
              "            style=\"display:none;\">\n",
              "\n",
              "<svg xmlns=\"http://www.w3.org/2000/svg\" height=\"24px\"viewBox=\"0 0 24 24\"\n",
              "     width=\"24px\">\n",
              "    <g>\n",
              "        <path d=\"M19 3H5c-1.1 0-2 .9-2 2v14c0 1.1.9 2 2 2h14c1.1 0 2-.9 2-2V5c0-1.1-.9-2-2-2zM9 17H7v-7h2v7zm4 0h-2V7h2v10zm4 0h-2v-4h2v4z\"/>\n",
              "    </g>\n",
              "</svg>\n",
              "  </button>\n",
              "\n",
              "<style>\n",
              "  .colab-df-quickchart {\n",
              "      --bg-color: #E8F0FE;\n",
              "      --fill-color: #1967D2;\n",
              "      --hover-bg-color: #E2EBFA;\n",
              "      --hover-fill-color: #174EA6;\n",
              "      --disabled-fill-color: #AAA;\n",
              "      --disabled-bg-color: #DDD;\n",
              "  }\n",
              "\n",
              "  [theme=dark] .colab-df-quickchart {\n",
              "      --bg-color: #3B4455;\n",
              "      --fill-color: #D2E3FC;\n",
              "      --hover-bg-color: #434B5C;\n",
              "      --hover-fill-color: #FFFFFF;\n",
              "      --disabled-bg-color: #3B4455;\n",
              "      --disabled-fill-color: #666;\n",
              "  }\n",
              "\n",
              "  .colab-df-quickchart {\n",
              "    background-color: var(--bg-color);\n",
              "    border: none;\n",
              "    border-radius: 50%;\n",
              "    cursor: pointer;\n",
              "    display: none;\n",
              "    fill: var(--fill-color);\n",
              "    height: 32px;\n",
              "    padding: 0;\n",
              "    width: 32px;\n",
              "  }\n",
              "\n",
              "  .colab-df-quickchart:hover {\n",
              "    background-color: var(--hover-bg-color);\n",
              "    box-shadow: 0 1px 2px rgba(60, 64, 67, 0.3), 0 1px 3px 1px rgba(60, 64, 67, 0.15);\n",
              "    fill: var(--button-hover-fill-color);\n",
              "  }\n",
              "\n",
              "  .colab-df-quickchart-complete:disabled,\n",
              "  .colab-df-quickchart-complete:disabled:hover {\n",
              "    background-color: var(--disabled-bg-color);\n",
              "    fill: var(--disabled-fill-color);\n",
              "    box-shadow: none;\n",
              "  }\n",
              "\n",
              "  .colab-df-spinner {\n",
              "    border: 2px solid var(--fill-color);\n",
              "    border-color: transparent;\n",
              "    border-bottom-color: var(--fill-color);\n",
              "    animation:\n",
              "      spin 1s steps(1) infinite;\n",
              "  }\n",
              "\n",
              "  @keyframes spin {\n",
              "    0% {\n",
              "      border-color: transparent;\n",
              "      border-bottom-color: var(--fill-color);\n",
              "      border-left-color: var(--fill-color);\n",
              "    }\n",
              "    20% {\n",
              "      border-color: transparent;\n",
              "      border-left-color: var(--fill-color);\n",
              "      border-top-color: var(--fill-color);\n",
              "    }\n",
              "    30% {\n",
              "      border-color: transparent;\n",
              "      border-left-color: var(--fill-color);\n",
              "      border-top-color: var(--fill-color);\n",
              "      border-right-color: var(--fill-color);\n",
              "    }\n",
              "    40% {\n",
              "      border-color: transparent;\n",
              "      border-right-color: var(--fill-color);\n",
              "      border-top-color: var(--fill-color);\n",
              "    }\n",
              "    60% {\n",
              "      border-color: transparent;\n",
              "      border-right-color: var(--fill-color);\n",
              "    }\n",
              "    80% {\n",
              "      border-color: transparent;\n",
              "      border-right-color: var(--fill-color);\n",
              "      border-bottom-color: var(--fill-color);\n",
              "    }\n",
              "    90% {\n",
              "      border-color: transparent;\n",
              "      border-bottom-color: var(--fill-color);\n",
              "    }\n",
              "  }\n",
              "</style>\n",
              "\n",
              "  <script>\n",
              "    async function quickchart(key) {\n",
              "      const quickchartButtonEl =\n",
              "        document.querySelector('#' + key + ' button');\n",
              "      quickchartButtonEl.disabled = true;  // To prevent multiple clicks.\n",
              "      quickchartButtonEl.classList.add('colab-df-spinner');\n",
              "      try {\n",
              "        const charts = await google.colab.kernel.invokeFunction(\n",
              "            'suggestCharts', [key], {});\n",
              "      } catch (error) {\n",
              "        console.error('Error during call to suggestCharts:', error);\n",
              "      }\n",
              "      quickchartButtonEl.classList.remove('colab-df-spinner');\n",
              "      quickchartButtonEl.classList.add('colab-df-quickchart-complete');\n",
              "    }\n",
              "    (() => {\n",
              "      let quickchartButtonEl =\n",
              "        document.querySelector('#df-33e18937-655b-4534-a2f9-40a45ee8493d button');\n",
              "      quickchartButtonEl.style.display =\n",
              "        google.colab.kernel.accessAllowed ? 'block' : 'none';\n",
              "    })();\n",
              "  </script>\n",
              "</div>\n",
              "    </div>\n",
              "  </div>\n"
            ]
          },
          "metadata": {},
          "execution_count": 12
        }
      ]
    },
    {
      "cell_type": "code",
      "source": [
        "df.rename({'v1':'label','v2':'message'},axis=1,inplace=True)"
      ],
      "metadata": {
        "id": "lkeWGmi5s_20"
      },
      "execution_count": 14,
      "outputs": []
    },
    {
      "cell_type": "code",
      "source": [
        "df.head()"
      ],
      "metadata": {
        "colab": {
          "base_uri": "https://localhost:8080/",
          "height": 206
        },
        "id": "a7C4tLIvvasW",
        "outputId": "9f34bfc6-f9b7-4df3-ac6a-985f75cf3747"
      },
      "execution_count": 19,
      "outputs": [
        {
          "output_type": "execute_result",
          "data": {
            "text/plain": [
              "  label                                            message\n",
              "0   ham  Go until jurong point, crazy.. Available only ...\n",
              "1   ham                      Ok lar... Joking wif u oni...\n",
              "2  spam  Free entry in 2 a wkly comp to win FA Cup fina...\n",
              "3   ham  U dun say so early hor... U c already then say...\n",
              "4   ham  Nah I don't think he goes to usf, he lives aro..."
            ],
            "text/html": [
              "\n",
              "  <div id=\"df-f4e1c433-7d5e-494c-ad84-8b8e0f974032\" class=\"colab-df-container\">\n",
              "    <div>\n",
              "<style scoped>\n",
              "    .dataframe tbody tr th:only-of-type {\n",
              "        vertical-align: middle;\n",
              "    }\n",
              "\n",
              "    .dataframe tbody tr th {\n",
              "        vertical-align: top;\n",
              "    }\n",
              "\n",
              "    .dataframe thead th {\n",
              "        text-align: right;\n",
              "    }\n",
              "</style>\n",
              "<table border=\"1\" class=\"dataframe\">\n",
              "  <thead>\n",
              "    <tr style=\"text-align: right;\">\n",
              "      <th></th>\n",
              "      <th>label</th>\n",
              "      <th>message</th>\n",
              "    </tr>\n",
              "  </thead>\n",
              "  <tbody>\n",
              "    <tr>\n",
              "      <th>0</th>\n",
              "      <td>ham</td>\n",
              "      <td>Go until jurong point, crazy.. Available only ...</td>\n",
              "    </tr>\n",
              "    <tr>\n",
              "      <th>1</th>\n",
              "      <td>ham</td>\n",
              "      <td>Ok lar... Joking wif u oni...</td>\n",
              "    </tr>\n",
              "    <tr>\n",
              "      <th>2</th>\n",
              "      <td>spam</td>\n",
              "      <td>Free entry in 2 a wkly comp to win FA Cup fina...</td>\n",
              "    </tr>\n",
              "    <tr>\n",
              "      <th>3</th>\n",
              "      <td>ham</td>\n",
              "      <td>U dun say so early hor... U c already then say...</td>\n",
              "    </tr>\n",
              "    <tr>\n",
              "      <th>4</th>\n",
              "      <td>ham</td>\n",
              "      <td>Nah I don't think he goes to usf, he lives aro...</td>\n",
              "    </tr>\n",
              "  </tbody>\n",
              "</table>\n",
              "</div>\n",
              "    <div class=\"colab-df-buttons\">\n",
              "\n",
              "  <div class=\"colab-df-container\">\n",
              "    <button class=\"colab-df-convert\" onclick=\"convertToInteractive('df-f4e1c433-7d5e-494c-ad84-8b8e0f974032')\"\n",
              "            title=\"Convert this dataframe to an interactive table.\"\n",
              "            style=\"display:none;\">\n",
              "\n",
              "  <svg xmlns=\"http://www.w3.org/2000/svg\" height=\"24px\" viewBox=\"0 -960 960 960\">\n",
              "    <path d=\"M120-120v-720h720v720H120Zm60-500h600v-160H180v160Zm220 220h160v-160H400v160Zm0 220h160v-160H400v160ZM180-400h160v-160H180v160Zm440 0h160v-160H620v160ZM180-180h160v-160H180v160Zm440 0h160v-160H620v160Z\"/>\n",
              "  </svg>\n",
              "    </button>\n",
              "\n",
              "  <style>\n",
              "    .colab-df-container {\n",
              "      display:flex;\n",
              "      gap: 12px;\n",
              "    }\n",
              "\n",
              "    .colab-df-convert {\n",
              "      background-color: #E8F0FE;\n",
              "      border: none;\n",
              "      border-radius: 50%;\n",
              "      cursor: pointer;\n",
              "      display: none;\n",
              "      fill: #1967D2;\n",
              "      height: 32px;\n",
              "      padding: 0 0 0 0;\n",
              "      width: 32px;\n",
              "    }\n",
              "\n",
              "    .colab-df-convert:hover {\n",
              "      background-color: #E2EBFA;\n",
              "      box-shadow: 0px 1px 2px rgba(60, 64, 67, 0.3), 0px 1px 3px 1px rgba(60, 64, 67, 0.15);\n",
              "      fill: #174EA6;\n",
              "    }\n",
              "\n",
              "    .colab-df-buttons div {\n",
              "      margin-bottom: 4px;\n",
              "    }\n",
              "\n",
              "    [theme=dark] .colab-df-convert {\n",
              "      background-color: #3B4455;\n",
              "      fill: #D2E3FC;\n",
              "    }\n",
              "\n",
              "    [theme=dark] .colab-df-convert:hover {\n",
              "      background-color: #434B5C;\n",
              "      box-shadow: 0px 1px 3px 1px rgba(0, 0, 0, 0.15);\n",
              "      filter: drop-shadow(0px 1px 2px rgba(0, 0, 0, 0.3));\n",
              "      fill: #FFFFFF;\n",
              "    }\n",
              "  </style>\n",
              "\n",
              "    <script>\n",
              "      const buttonEl =\n",
              "        document.querySelector('#df-f4e1c433-7d5e-494c-ad84-8b8e0f974032 button.colab-df-convert');\n",
              "      buttonEl.style.display =\n",
              "        google.colab.kernel.accessAllowed ? 'block' : 'none';\n",
              "\n",
              "      async function convertToInteractive(key) {\n",
              "        const element = document.querySelector('#df-f4e1c433-7d5e-494c-ad84-8b8e0f974032');\n",
              "        const dataTable =\n",
              "          await google.colab.kernel.invokeFunction('convertToInteractive',\n",
              "                                                    [key], {});\n",
              "        if (!dataTable) return;\n",
              "\n",
              "        const docLinkHtml = 'Like what you see? Visit the ' +\n",
              "          '<a target=\"_blank\" href=https://colab.research.google.com/notebooks/data_table.ipynb>data table notebook</a>'\n",
              "          + ' to learn more about interactive tables.';\n",
              "        element.innerHTML = '';\n",
              "        dataTable['output_type'] = 'display_data';\n",
              "        await google.colab.output.renderOutput(dataTable, element);\n",
              "        const docLink = document.createElement('div');\n",
              "        docLink.innerHTML = docLinkHtml;\n",
              "        element.appendChild(docLink);\n",
              "      }\n",
              "    </script>\n",
              "  </div>\n",
              "\n",
              "\n",
              "<div id=\"df-e4de5709-36c4-43f6-9c7a-86dbd0275d75\">\n",
              "  <button class=\"colab-df-quickchart\" onclick=\"quickchart('df-e4de5709-36c4-43f6-9c7a-86dbd0275d75')\"\n",
              "            title=\"Suggest charts\"\n",
              "            style=\"display:none;\">\n",
              "\n",
              "<svg xmlns=\"http://www.w3.org/2000/svg\" height=\"24px\"viewBox=\"0 0 24 24\"\n",
              "     width=\"24px\">\n",
              "    <g>\n",
              "        <path d=\"M19 3H5c-1.1 0-2 .9-2 2v14c0 1.1.9 2 2 2h14c1.1 0 2-.9 2-2V5c0-1.1-.9-2-2-2zM9 17H7v-7h2v7zm4 0h-2V7h2v10zm4 0h-2v-4h2v4z\"/>\n",
              "    </g>\n",
              "</svg>\n",
              "  </button>\n",
              "\n",
              "<style>\n",
              "  .colab-df-quickchart {\n",
              "      --bg-color: #E8F0FE;\n",
              "      --fill-color: #1967D2;\n",
              "      --hover-bg-color: #E2EBFA;\n",
              "      --hover-fill-color: #174EA6;\n",
              "      --disabled-fill-color: #AAA;\n",
              "      --disabled-bg-color: #DDD;\n",
              "  }\n",
              "\n",
              "  [theme=dark] .colab-df-quickchart {\n",
              "      --bg-color: #3B4455;\n",
              "      --fill-color: #D2E3FC;\n",
              "      --hover-bg-color: #434B5C;\n",
              "      --hover-fill-color: #FFFFFF;\n",
              "      --disabled-bg-color: #3B4455;\n",
              "      --disabled-fill-color: #666;\n",
              "  }\n",
              "\n",
              "  .colab-df-quickchart {\n",
              "    background-color: var(--bg-color);\n",
              "    border: none;\n",
              "    border-radius: 50%;\n",
              "    cursor: pointer;\n",
              "    display: none;\n",
              "    fill: var(--fill-color);\n",
              "    height: 32px;\n",
              "    padding: 0;\n",
              "    width: 32px;\n",
              "  }\n",
              "\n",
              "  .colab-df-quickchart:hover {\n",
              "    background-color: var(--hover-bg-color);\n",
              "    box-shadow: 0 1px 2px rgba(60, 64, 67, 0.3), 0 1px 3px 1px rgba(60, 64, 67, 0.15);\n",
              "    fill: var(--button-hover-fill-color);\n",
              "  }\n",
              "\n",
              "  .colab-df-quickchart-complete:disabled,\n",
              "  .colab-df-quickchart-complete:disabled:hover {\n",
              "    background-color: var(--disabled-bg-color);\n",
              "    fill: var(--disabled-fill-color);\n",
              "    box-shadow: none;\n",
              "  }\n",
              "\n",
              "  .colab-df-spinner {\n",
              "    border: 2px solid var(--fill-color);\n",
              "    border-color: transparent;\n",
              "    border-bottom-color: var(--fill-color);\n",
              "    animation:\n",
              "      spin 1s steps(1) infinite;\n",
              "  }\n",
              "\n",
              "  @keyframes spin {\n",
              "    0% {\n",
              "      border-color: transparent;\n",
              "      border-bottom-color: var(--fill-color);\n",
              "      border-left-color: var(--fill-color);\n",
              "    }\n",
              "    20% {\n",
              "      border-color: transparent;\n",
              "      border-left-color: var(--fill-color);\n",
              "      border-top-color: var(--fill-color);\n",
              "    }\n",
              "    30% {\n",
              "      border-color: transparent;\n",
              "      border-left-color: var(--fill-color);\n",
              "      border-top-color: var(--fill-color);\n",
              "      border-right-color: var(--fill-color);\n",
              "    }\n",
              "    40% {\n",
              "      border-color: transparent;\n",
              "      border-right-color: var(--fill-color);\n",
              "      border-top-color: var(--fill-color);\n",
              "    }\n",
              "    60% {\n",
              "      border-color: transparent;\n",
              "      border-right-color: var(--fill-color);\n",
              "    }\n",
              "    80% {\n",
              "      border-color: transparent;\n",
              "      border-right-color: var(--fill-color);\n",
              "      border-bottom-color: var(--fill-color);\n",
              "    }\n",
              "    90% {\n",
              "      border-color: transparent;\n",
              "      border-bottom-color: var(--fill-color);\n",
              "    }\n",
              "  }\n",
              "</style>\n",
              "\n",
              "  <script>\n",
              "    async function quickchart(key) {\n",
              "      const quickchartButtonEl =\n",
              "        document.querySelector('#' + key + ' button');\n",
              "      quickchartButtonEl.disabled = true;  // To prevent multiple clicks.\n",
              "      quickchartButtonEl.classList.add('colab-df-spinner');\n",
              "      try {\n",
              "        const charts = await google.colab.kernel.invokeFunction(\n",
              "            'suggestCharts', [key], {});\n",
              "      } catch (error) {\n",
              "        console.error('Error during call to suggestCharts:', error);\n",
              "      }\n",
              "      quickchartButtonEl.classList.remove('colab-df-spinner');\n",
              "      quickchartButtonEl.classList.add('colab-df-quickchart-complete');\n",
              "    }\n",
              "    (() => {\n",
              "      let quickchartButtonEl =\n",
              "        document.querySelector('#df-e4de5709-36c4-43f6-9c7a-86dbd0275d75 button');\n",
              "      quickchartButtonEl.style.display =\n",
              "        google.colab.kernel.accessAllowed ? 'block' : 'none';\n",
              "    })();\n",
              "  </script>\n",
              "</div>\n",
              "    </div>\n",
              "  </div>\n"
            ]
          },
          "metadata": {},
          "execution_count": 19
        }
      ]
    },
    {
      "cell_type": "code",
      "source": [
        "import nltk"
      ],
      "metadata": {
        "id": "Z4a9X7PptRSv"
      },
      "execution_count": 15,
      "outputs": []
    },
    {
      "cell_type": "code",
      "source": [
        "df.shape"
      ],
      "metadata": {
        "colab": {
          "base_uri": "https://localhost:8080/"
        },
        "id": "-yedglUMtlSb",
        "outputId": "a97c01bb-b0a0-4e1a-c527-a4ab33b90c53"
      },
      "execution_count": 16,
      "outputs": [
        {
          "output_type": "execute_result",
          "data": {
            "text/plain": [
              "(5572, 2)"
            ]
          },
          "metadata": {},
          "execution_count": 16
        }
      ]
    },
    {
      "cell_type": "code",
      "source": [
        "import re"
      ],
      "metadata": {
        "id": "A1CDiyIJt7sD"
      },
      "execution_count": 17,
      "outputs": []
    },
    {
      "cell_type": "code",
      "source": [
        "from nltk.corpus import stopwords\n",
        "from nltk.stem.porter import PorterStemmer\n",
        "ps=PorterStemmer()"
      ],
      "metadata": {
        "id": "Iv4Lsp7luAJT"
      },
      "execution_count": 18,
      "outputs": []
    },
    {
      "cell_type": "code",
      "source": [
        "import nltk\n",
        "nltk.download('stopwords')"
      ],
      "metadata": {
        "colab": {
          "base_uri": "https://localhost:8080/"
        },
        "id": "S4Tf7Huiw3iu",
        "outputId": "f5624407-6c7c-4758-ae78-0deace93803a"
      },
      "execution_count": 22,
      "outputs": [
        {
          "output_type": "stream",
          "name": "stderr",
          "text": [
            "[nltk_data] Downloading package stopwords to /root/nltk_data...\n",
            "[nltk_data]   Unzipping corpora/stopwords.zip.\n"
          ]
        },
        {
          "output_type": "execute_result",
          "data": {
            "text/plain": [
              "True"
            ]
          },
          "metadata": {},
          "execution_count": 22
        }
      ]
    },
    {
      "cell_type": "code",
      "source": [
        "ps = PorterStemmer()\n",
        "corpus = []\n",
        "\n",
        "for i in range(0, len(df)):\n",
        "    review = re.sub('[^a-zA-Z]', ' ', df['message'][i])\n",
        "    review = review.lower()\n",
        "    review = review.split()\n",
        "\n",
        "    # Use stopwords.words('english') to get the list of English stopwords\n",
        "    review = [ps.stem(word) for word in review if not word in stopwords.words('english')]\n",
        "    review = ' '.join(review)\n",
        "    corpus.append(review)"
      ],
      "metadata": {
        "id": "OPgs76j8wzJv"
      },
      "execution_count": 23,
      "outputs": []
    },
    {
      "cell_type": "code",
      "source": [
        "corpus[:5]"
      ],
      "metadata": {
        "colab": {
          "base_uri": "https://localhost:8080/"
        },
        "id": "N-tZ7rMaxAT7",
        "outputId": "45af8fc0-43ad-4fcd-82f6-e719dd6b2fb9"
      },
      "execution_count": 25,
      "outputs": [
        {
          "output_type": "execute_result",
          "data": {
            "text/plain": [
              "['go jurong point crazi avail bugi n great world la e buffet cine got amor wat',\n",
              " 'ok lar joke wif u oni',\n",
              " 'free entri wkli comp win fa cup final tkt st may text fa receiv entri question std txt rate c appli',\n",
              " 'u dun say earli hor u c alreadi say',\n",
              " 'nah think goe usf live around though']"
            ]
          },
          "metadata": {},
          "execution_count": 25
        }
      ]
    },
    {
      "cell_type": "code",
      "source": [
        "from sklearn.feature_extraction.text import CountVectorizer"
      ],
      "metadata": {
        "id": "pyGTqxGVyllZ"
      },
      "execution_count": 27,
      "outputs": []
    },
    {
      "cell_type": "code",
      "source": [
        "cv=CountVectorizer(max_features=25000)"
      ],
      "metadata": {
        "id": "Cs1sX8jRyrO2"
      },
      "execution_count": 29,
      "outputs": []
    },
    {
      "cell_type": "code",
      "source": [
        "X=cv.fit_transform(corpus).toarray()"
      ],
      "metadata": {
        "id": "be0Xm_MVy0j_"
      },
      "execution_count": 30,
      "outputs": []
    },
    {
      "cell_type": "code",
      "source": [
        "y=pd.get_dummies(df['label'])\n",
        "y=y.iloc[:,1].values"
      ],
      "metadata": {
        "id": "kC22f0yYy_-d"
      },
      "execution_count": 31,
      "outputs": []
    },
    {
      "cell_type": "code",
      "source": [
        "y"
      ],
      "metadata": {
        "colab": {
          "base_uri": "https://localhost:8080/"
        },
        "id": "B1FujrsyzNlC",
        "outputId": "2ae1cbb0-a464-48a9-d90c-76f331183079"
      },
      "execution_count": 32,
      "outputs": [
        {
          "output_type": "execute_result",
          "data": {
            "text/plain": [
              "array([0, 0, 1, ..., 0, 0, 0], dtype=uint8)"
            ]
          },
          "metadata": {},
          "execution_count": 32
        }
      ]
    },
    {
      "cell_type": "code",
      "source": [
        "from sklearn.model_selection import train_test_split"
      ],
      "metadata": {
        "id": "A3xcL8L_zRuK"
      },
      "execution_count": 33,
      "outputs": []
    },
    {
      "cell_type": "code",
      "source": [
        "X_train,X_test,y_train,y_test=train_test_split(X,y,test_size=0.2)"
      ],
      "metadata": {
        "id": "2WSQEmng0S9K"
      },
      "execution_count": 34,
      "outputs": []
    },
    {
      "cell_type": "code",
      "source": [
        "from sklearn.naive_bayes import MultinomialNB"
      ],
      "metadata": {
        "id": "bKAStEuq1HnQ"
      },
      "execution_count": 35,
      "outputs": []
    },
    {
      "cell_type": "code",
      "source": [
        "spam_detect_model=MultinomialNB().fit(X_train,y_train)"
      ],
      "metadata": {
        "id": "zQWq_v8Q1LA9"
      },
      "execution_count": 36,
      "outputs": []
    },
    {
      "cell_type": "code",
      "source": [
        "y_pred=spam_detect_model.predict(X_test)"
      ],
      "metadata": {
        "id": "hE4lm7m81WdP"
      },
      "execution_count": 37,
      "outputs": []
    },
    {
      "cell_type": "code",
      "source": [
        "from sklearn.metrics import classification_report"
      ],
      "metadata": {
        "id": "1PCzW3mO19eH"
      },
      "execution_count": 39,
      "outputs": []
    },
    {
      "cell_type": "code",
      "source": [
        "print(classification_report(y_pred,y_test))"
      ],
      "metadata": {
        "colab": {
          "base_uri": "https://localhost:8080/"
        },
        "id": "-vau-4PR2Fxy",
        "outputId": "a85b6e85-8b9b-4c55-8b4c-cd964c329351"
      },
      "execution_count": 41,
      "outputs": [
        {
          "output_type": "stream",
          "name": "stdout",
          "text": [
            "              precision    recall  f1-score   support\n",
            "\n",
            "           0       0.98      0.99      0.98       949\n",
            "           1       0.95      0.87      0.91       166\n",
            "\n",
            "    accuracy                           0.97      1115\n",
            "   macro avg       0.96      0.93      0.95      1115\n",
            "weighted avg       0.97      0.97      0.97      1115\n",
            "\n"
          ]
        }
      ]
    },
    {
      "cell_type": "code",
      "source": [
        "from sklearn.feature_extraction.text import TfidfVectorizer"
      ],
      "metadata": {
        "id": "Id4T2ca_3Smv"
      },
      "execution_count": 42,
      "outputs": []
    },
    {
      "cell_type": "code",
      "source": [
        "tv=TfidfVectorizer()"
      ],
      "metadata": {
        "id": "eMFRTDNq3WZB"
      },
      "execution_count": 43,
      "outputs": []
    },
    {
      "cell_type": "code",
      "source": [
        "X=tv.fit_transform(corpus).toarray()"
      ],
      "metadata": {
        "id": "fCAtDQpI3ZOI"
      },
      "execution_count": 44,
      "outputs": []
    },
    {
      "cell_type": "code",
      "source": [
        "from sklearn.model_selection import train_test_split\n",
        "X_train, X_test, y_train, y_test = train_test_split(X, y, test_size = 0.2, random_state = 0)"
      ],
      "metadata": {
        "id": "bDufU5Xd3iWo"
      },
      "execution_count": 45,
      "outputs": []
    },
    {
      "cell_type": "code",
      "source": [
        "from sklearn.linear_model import LogisticRegression\n"
      ],
      "metadata": {
        "id": "oCuHX0k339n-"
      },
      "execution_count": 46,
      "outputs": []
    },
    {
      "cell_type": "code",
      "source": [
        "logisticR=LogisticRegression()\n"
      ],
      "metadata": {
        "id": "fxpVOJ2U4F7V"
      },
      "execution_count": 48,
      "outputs": []
    },
    {
      "cell_type": "code",
      "source": [
        "logisticR.fit(X_train, y_train)"
      ],
      "metadata": {
        "colab": {
          "base_uri": "https://localhost:8080/",
          "height": 75
        },
        "id": "Qfi1v7or4JD-",
        "outputId": "fb0e5e7a-d011-4f48-9c2a-cd8466afecec"
      },
      "execution_count": 49,
      "outputs": [
        {
          "output_type": "execute_result",
          "data": {
            "text/plain": [
              "LogisticRegression()"
            ],
            "text/html": [
              "<style>#sk-container-id-1 {color: black;background-color: white;}#sk-container-id-1 pre{padding: 0;}#sk-container-id-1 div.sk-toggleable {background-color: white;}#sk-container-id-1 label.sk-toggleable__label {cursor: pointer;display: block;width: 100%;margin-bottom: 0;padding: 0.3em;box-sizing: border-box;text-align: center;}#sk-container-id-1 label.sk-toggleable__label-arrow:before {content: \"▸\";float: left;margin-right: 0.25em;color: #696969;}#sk-container-id-1 label.sk-toggleable__label-arrow:hover:before {color: black;}#sk-container-id-1 div.sk-estimator:hover label.sk-toggleable__label-arrow:before {color: black;}#sk-container-id-1 div.sk-toggleable__content {max-height: 0;max-width: 0;overflow: hidden;text-align: left;background-color: #f0f8ff;}#sk-container-id-1 div.sk-toggleable__content pre {margin: 0.2em;color: black;border-radius: 0.25em;background-color: #f0f8ff;}#sk-container-id-1 input.sk-toggleable__control:checked~div.sk-toggleable__content {max-height: 200px;max-width: 100%;overflow: auto;}#sk-container-id-1 input.sk-toggleable__control:checked~label.sk-toggleable__label-arrow:before {content: \"▾\";}#sk-container-id-1 div.sk-estimator input.sk-toggleable__control:checked~label.sk-toggleable__label {background-color: #d4ebff;}#sk-container-id-1 div.sk-label input.sk-toggleable__control:checked~label.sk-toggleable__label {background-color: #d4ebff;}#sk-container-id-1 input.sk-hidden--visually {border: 0;clip: rect(1px 1px 1px 1px);clip: rect(1px, 1px, 1px, 1px);height: 1px;margin: -1px;overflow: hidden;padding: 0;position: absolute;width: 1px;}#sk-container-id-1 div.sk-estimator {font-family: monospace;background-color: #f0f8ff;border: 1px dotted black;border-radius: 0.25em;box-sizing: border-box;margin-bottom: 0.5em;}#sk-container-id-1 div.sk-estimator:hover {background-color: #d4ebff;}#sk-container-id-1 div.sk-parallel-item::after {content: \"\";width: 100%;border-bottom: 1px solid gray;flex-grow: 1;}#sk-container-id-1 div.sk-label:hover label.sk-toggleable__label {background-color: #d4ebff;}#sk-container-id-1 div.sk-serial::before {content: \"\";position: absolute;border-left: 1px solid gray;box-sizing: border-box;top: 0;bottom: 0;left: 50%;z-index: 0;}#sk-container-id-1 div.sk-serial {display: flex;flex-direction: column;align-items: center;background-color: white;padding-right: 0.2em;padding-left: 0.2em;position: relative;}#sk-container-id-1 div.sk-item {position: relative;z-index: 1;}#sk-container-id-1 div.sk-parallel {display: flex;align-items: stretch;justify-content: center;background-color: white;position: relative;}#sk-container-id-1 div.sk-item::before, #sk-container-id-1 div.sk-parallel-item::before {content: \"\";position: absolute;border-left: 1px solid gray;box-sizing: border-box;top: 0;bottom: 0;left: 50%;z-index: -1;}#sk-container-id-1 div.sk-parallel-item {display: flex;flex-direction: column;z-index: 1;position: relative;background-color: white;}#sk-container-id-1 div.sk-parallel-item:first-child::after {align-self: flex-end;width: 50%;}#sk-container-id-1 div.sk-parallel-item:last-child::after {align-self: flex-start;width: 50%;}#sk-container-id-1 div.sk-parallel-item:only-child::after {width: 0;}#sk-container-id-1 div.sk-dashed-wrapped {border: 1px dashed gray;margin: 0 0.4em 0.5em 0.4em;box-sizing: border-box;padding-bottom: 0.4em;background-color: white;}#sk-container-id-1 div.sk-label label {font-family: monospace;font-weight: bold;display: inline-block;line-height: 1.2em;}#sk-container-id-1 div.sk-label-container {text-align: center;}#sk-container-id-1 div.sk-container {/* jupyter's `normalize.less` sets `[hidden] { display: none; }` but bootstrap.min.css set `[hidden] { display: none !important; }` so we also need the `!important` here to be able to override the default hidden behavior on the sphinx rendered scikit-learn.org. See: https://github.com/scikit-learn/scikit-learn/issues/21755 */display: inline-block !important;position: relative;}#sk-container-id-1 div.sk-text-repr-fallback {display: none;}</style><div id=\"sk-container-id-1\" class=\"sk-top-container\"><div class=\"sk-text-repr-fallback\"><pre>LogisticRegression()</pre><b>In a Jupyter environment, please rerun this cell to show the HTML representation or trust the notebook. <br />On GitHub, the HTML representation is unable to render, please try loading this page with nbviewer.org.</b></div><div class=\"sk-container\" hidden><div class=\"sk-item\"><div class=\"sk-estimator sk-toggleable\"><input class=\"sk-toggleable__control sk-hidden--visually\" id=\"sk-estimator-id-1\" type=\"checkbox\" checked><label for=\"sk-estimator-id-1\" class=\"sk-toggleable__label sk-toggleable__label-arrow\">LogisticRegression</label><div class=\"sk-toggleable__content\"><pre>LogisticRegression()</pre></div></div></div></div></div>"
            ]
          },
          "metadata": {},
          "execution_count": 49
        }
      ]
    },
    {
      "cell_type": "code",
      "source": [
        "y_pred2 = logisticR.predict(X_test)\n"
      ],
      "metadata": {
        "id": "FoPPL1I54O2j"
      },
      "execution_count": 50,
      "outputs": []
    },
    {
      "cell_type": "code",
      "source": [
        "cm2 = classification_report(y_test, y_pred2)\n",
        "print(cm2)\n"
      ],
      "metadata": {
        "colab": {
          "base_uri": "https://localhost:8080/"
        },
        "id": "SEb61i_a4WfX",
        "outputId": "28042e3b-04e9-4159-ee83-abd2eda6f718"
      },
      "execution_count": 54,
      "outputs": [
        {
          "output_type": "stream",
          "name": "stdout",
          "text": [
            "              precision    recall  f1-score   support\n",
            "\n",
            "           0       0.95      1.00      0.98       949\n",
            "           1       0.99      0.72      0.84       166\n",
            "\n",
            "    accuracy                           0.96      1115\n",
            "   macro avg       0.97      0.86      0.91      1115\n",
            "weighted avg       0.96      0.96      0.96      1115\n",
            "\n"
          ]
        }
      ]
    },
    {
      "cell_type": "markdown",
      "source": [
        "## Word 2 Vec Implementation\n"
      ],
      "metadata": {
        "id": "DCtHm5eP4mPb"
      }
    },
    {
      "cell_type": "code",
      "source": [
        "from gensim.utils import simple_preprocess"
      ],
      "metadata": {
        "id": "vfUNbDI54llv"
      },
      "execution_count": 55,
      "outputs": []
    },
    {
      "cell_type": "code",
      "source": [
        "from nltk import sent_tokenize"
      ],
      "metadata": {
        "id": "oI9bpoYK8VxD"
      },
      "execution_count": 57,
      "outputs": []
    },
    {
      "cell_type": "code",
      "source": [
        "corpus[0]"
      ],
      "metadata": {
        "colab": {
          "base_uri": "https://localhost:8080/",
          "height": 35
        },
        "id": "LB3VFcXe71Bj",
        "outputId": "4bc48a7f-4a43-4c8f-9c4b-18ae40caa94d"
      },
      "execution_count": 56,
      "outputs": [
        {
          "output_type": "execute_result",
          "data": {
            "text/plain": [
              "'go jurong point crazi avail bugi n great world la e buffet cine got amor wat'"
            ],
            "application/vnd.google.colaboratory.intrinsic+json": {
              "type": "string"
            }
          },
          "metadata": {},
          "execution_count": 56
        }
      ]
    },
    {
      "cell_type": "code",
      "source": [
        "import nltk\n",
        "nltk.download('punkt')"
      ],
      "metadata": {
        "colab": {
          "base_uri": "https://localhost:8080/"
        },
        "id": "06L1F5rR8rk8",
        "outputId": "0f9bfa31-fbed-4ea6-d621-0bc9cdb9fce3"
      },
      "execution_count": 59,
      "outputs": [
        {
          "output_type": "stream",
          "name": "stderr",
          "text": [
            "[nltk_data] Downloading package punkt to /root/nltk_data...\n",
            "[nltk_data]   Unzipping tokenizers/punkt.zip.\n"
          ]
        },
        {
          "output_type": "execute_result",
          "data": {
            "text/plain": [
              "True"
            ]
          },
          "metadata": {},
          "execution_count": 59
        }
      ]
    },
    {
      "cell_type": "code",
      "source": [
        "words=[]\n",
        "for sent in corpus:\n",
        "  sent_token=sent_tokenize(sent)\n",
        "  for sent in sent_token:\n",
        "    words.append(simple_preprocess(sent))\n",
        "\n"
      ],
      "metadata": {
        "id": "IruMVzxG76jb"
      },
      "execution_count": 60,
      "outputs": []
    },
    {
      "cell_type": "code",
      "source": [
        "words[:5]"
      ],
      "metadata": {
        "colab": {
          "base_uri": "https://localhost:8080/"
        },
        "id": "1mvCFLkN4kxs",
        "outputId": "35a05084-f2fe-44f3-c640-4b1e19d7779c"
      },
      "execution_count": 62,
      "outputs": [
        {
          "output_type": "execute_result",
          "data": {
            "text/plain": [
              "[['go',\n",
              "  'jurong',\n",
              "  'point',\n",
              "  'crazi',\n",
              "  'avail',\n",
              "  'bugi',\n",
              "  'great',\n",
              "  'world',\n",
              "  'la',\n",
              "  'buffet',\n",
              "  'cine',\n",
              "  'got',\n",
              "  'amor',\n",
              "  'wat'],\n",
              " ['ok', 'lar', 'joke', 'wif', 'oni'],\n",
              " ['free',\n",
              "  'entri',\n",
              "  'wkli',\n",
              "  'comp',\n",
              "  'win',\n",
              "  'fa',\n",
              "  'cup',\n",
              "  'final',\n",
              "  'tkt',\n",
              "  'st',\n",
              "  'may',\n",
              "  'text',\n",
              "  'fa',\n",
              "  'receiv',\n",
              "  'entri',\n",
              "  'question',\n",
              "  'std',\n",
              "  'txt',\n",
              "  'rate',\n",
              "  'appli'],\n",
              " ['dun', 'say', 'earli', 'hor', 'alreadi', 'say'],\n",
              " ['nah', 'think', 'goe', 'usf', 'live', 'around', 'though']]"
            ]
          },
          "metadata": {},
          "execution_count": 62
        }
      ]
    },
    {
      "cell_type": "code",
      "source": [
        "import gensim"
      ],
      "metadata": {
        "id": "8ujUOM1p9k3t"
      },
      "execution_count": 64,
      "outputs": []
    },
    {
      "cell_type": "code",
      "source": [
        "from gensim.models import Word2Vec\n",
        "\n",
        "model = Word2Vec(words, window=5, min_count=2)"
      ],
      "metadata": {
        "id": "uCQsOoKQ9tuX"
      },
      "execution_count": 66,
      "outputs": []
    },
    {
      "cell_type": "code",
      "source": [
        "model.wv.index_to_key[:5]"
      ],
      "metadata": {
        "colab": {
          "base_uri": "https://localhost:8080/"
        },
        "id": "u5lzCF9C9uvY",
        "outputId": "ce96c89c-fbcd-486e-e751-0ebda4fd7834"
      },
      "execution_count": 68,
      "outputs": [
        {
          "output_type": "execute_result",
          "data": {
            "text/plain": [
              "['call', 'go', 'get', 'ur', 'gt']"
            ]
          },
          "metadata": {},
          "execution_count": 68
        }
      ]
    },
    {
      "cell_type": "code",
      "source": [
        "model.corpus_count"
      ],
      "metadata": {
        "colab": {
          "base_uri": "https://localhost:8080/"
        },
        "id": "oV8EXMec-1Mh",
        "outputId": "47d90802-db31-4f36-949b-1ae06eeb8804"
      },
      "execution_count": 69,
      "outputs": [
        {
          "output_type": "execute_result",
          "data": {
            "text/plain": [
              "5564"
            ]
          },
          "metadata": {},
          "execution_count": 69
        }
      ]
    },
    {
      "cell_type": "code",
      "source": [
        "model.epochs"
      ],
      "metadata": {
        "colab": {
          "base_uri": "https://localhost:8080/"
        },
        "id": "PCBkA86U-5ds",
        "outputId": "0b1096ae-f6c0-439b-b565-b559bad137fe"
      },
      "execution_count": 70,
      "outputs": [
        {
          "output_type": "execute_result",
          "data": {
            "text/plain": [
              "5"
            ]
          },
          "metadata": {},
          "execution_count": 70
        }
      ]
    },
    {
      "cell_type": "code",
      "source": [
        "model.wv.similar_by_word('price')"
      ],
      "metadata": {
        "colab": {
          "base_uri": "https://localhost:8080/"
        },
        "id": "ChewSeeD-7kv",
        "outputId": "ef7985fd-0a44-4c19-890f-7d5687d7846b"
      },
      "execution_count": 71,
      "outputs": [
        {
          "output_type": "execute_result",
          "data": {
            "text/plain": [
              "[('phone', 0.9991462230682373),\n",
              " ('text', 0.9990825057029724),\n",
              " ('get', 0.9990633130073547),\n",
              " ('play', 0.9990501403808594),\n",
              " ('game', 0.9990464448928833),\n",
              " ('send', 0.9990408420562744),\n",
              " ('msg', 0.9990399479866028),\n",
              " ('win', 0.9990329146385193),\n",
              " ('work', 0.9990264773368835),\n",
              " ('even', 0.9990251064300537)]"
            ]
          },
          "metadata": {},
          "execution_count": 71
        }
      ]
    },
    {
      "cell_type": "code",
      "source": [],
      "metadata": {
        "id": "EfHuWhvl_F3r"
      },
      "execution_count": null,
      "outputs": []
    }
  ]
}