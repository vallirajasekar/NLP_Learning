{
 "cells": [
  {
   "cell_type": "code",
   "execution_count": 1,
   "id": "e08cd83c",
   "metadata": {},
   "outputs": [
    {
     "name": "stdout",
     "output_type": "stream",
     "text": [
      "2.14.0\n"
     ]
    }
   ],
   "source": [
    "import tensorflow as tf\n",
    "print(tf.__version__)"
   ]
  },
  {
   "cell_type": "code",
   "execution_count": 2,
   "id": "62323f58",
   "metadata": {},
   "outputs": [],
   "source": [
    "from tensorflow.keras.preprocessing.text import one_hot"
   ]
  },
  {
   "cell_type": "code",
   "execution_count": 15,
   "id": "7b105651",
   "metadata": {},
   "outputs": [],
   "source": [
    "sent=[  'the glass of milk',\n",
    "     'the glass of juice',\n",
    "     'the cup of tea',\n",
    "    'I am a good boy',\n",
    "     'I am a good developer',\n",
    "     'understand the meaning of words',\n",
    "     'your videos are good',\n",
    "     'sekar']"
   ]
  },
  {
   "cell_type": "code",
   "execution_count": 16,
   "id": "3db15438",
   "metadata": {},
   "outputs": [],
   "source": [
    "voc_size=10000"
   ]
  },
  {
   "cell_type": "markdown",
   "id": "90f5d834",
   "metadata": {},
   "source": [
    "## One Hot Representation"
   ]
  },
  {
   "cell_type": "code",
   "execution_count": 17,
   "id": "08c7d62d",
   "metadata": {},
   "outputs": [
    {
     "data": {
      "text/plain": [
       "[[6813, 1246, 4907, 1070],\n",
       " [6813, 1246, 4907, 9483],\n",
       " [6813, 1795, 4907, 4625],\n",
       " [3724, 3731, 2514, 3101, 7010],\n",
       " [3724, 3731, 2514, 3101, 1024],\n",
       " [9810, 6813, 9638, 4907, 2193],\n",
       " [7353, 7698, 4319, 3101],\n",
       " [3443]]"
      ]
     },
     "execution_count": 17,
     "metadata": {},
     "output_type": "execute_result"
    }
   ],
   "source": [
    "[one_hot(words,voc_size) for words in sent]"
   ]
  },
  {
   "cell_type": "code",
   "execution_count": 18,
   "id": "2d2a20ee",
   "metadata": {},
   "outputs": [],
   "source": [
    "ohe_repr=[one_hot(words,voc_size) for words in sent]"
   ]
  },
  {
   "cell_type": "markdown",
   "id": "d08de2f4",
   "metadata": {},
   "source": [
    " ## Word Embedding Representation"
   ]
  },
  {
   "cell_type": "code",
   "execution_count": 19,
   "id": "5e85ee1b",
   "metadata": {},
   "outputs": [],
   "source": [
    "from tensorflow.keras.layers import Embedding\n",
    "from tensorflow.keras.preprocessing.sequence import pad_sequences\n",
    "from tensorflow.keras.models import Sequential"
   ]
  },
  {
   "cell_type": "code",
   "execution_count": 20,
   "id": "9cd99ad9",
   "metadata": {},
   "outputs": [],
   "source": [
    "import numpy as np"
   ]
  },
  {
   "cell_type": "code",
   "execution_count": 23,
   "id": "6cee2a02",
   "metadata": {},
   "outputs": [],
   "source": [
    "sent_length=10"
   ]
  },
  {
   "cell_type": "code",
   "execution_count": 27,
   "id": "3486a1aa",
   "metadata": {},
   "outputs": [],
   "source": [
    "emedded_docs=pad_sequences(ohe_repr,padding='pre',maxlen=sent_length)"
   ]
  },
  {
   "cell_type": "code",
   "execution_count": 28,
   "id": "1d44868b",
   "metadata": {},
   "outputs": [
    {
     "data": {
      "text/plain": [
       "array([[   0,    0,    0,    0,    0,    0, 6813, 1246, 4907, 1070],\n",
       "       [   0,    0,    0,    0,    0,    0, 6813, 1246, 4907, 9483],\n",
       "       [   0,    0,    0,    0,    0,    0, 6813, 1795, 4907, 4625],\n",
       "       [   0,    0,    0,    0,    0, 3724, 3731, 2514, 3101, 7010],\n",
       "       [   0,    0,    0,    0,    0, 3724, 3731, 2514, 3101, 1024],\n",
       "       [   0,    0,    0,    0,    0, 9810, 6813, 9638, 4907, 2193],\n",
       "       [   0,    0,    0,    0,    0,    0, 7353, 7698, 4319, 3101],\n",
       "       [   0,    0,    0,    0,    0,    0,    0,    0,    0, 3443]],\n",
       "      dtype=int32)"
      ]
     },
     "execution_count": 28,
     "metadata": {},
     "output_type": "execute_result"
    }
   ],
   "source": [
    "emedded_docs"
   ]
  },
  {
   "cell_type": "code",
   "execution_count": 29,
   "id": "1d30fa61",
   "metadata": {},
   "outputs": [
    {
     "data": {
      "text/plain": [
       "array([[6813, 1246, 4907, 1070,    0,    0,    0,    0,    0,    0],\n",
       "       [6813, 1246, 4907, 9483,    0,    0,    0,    0,    0,    0],\n",
       "       [6813, 1795, 4907, 4625,    0,    0,    0,    0,    0,    0],\n",
       "       [3724, 3731, 2514, 3101, 7010,    0,    0,    0,    0,    0],\n",
       "       [3724, 3731, 2514, 3101, 1024,    0,    0,    0,    0,    0],\n",
       "       [9810, 6813, 9638, 4907, 2193,    0,    0,    0,    0,    0],\n",
       "       [7353, 7698, 4319, 3101,    0,    0,    0,    0,    0,    0],\n",
       "       [3443,    0,    0,    0,    0,    0,    0,    0,    0,    0]],\n",
       "      dtype=int32)"
      ]
     },
     "execution_count": 29,
     "metadata": {},
     "output_type": "execute_result"
    }
   ],
   "source": [
    "pad_sequences(ohe_repr,padding='post',maxlen=sent_length)"
   ]
  },
  {
   "cell_type": "code",
   "execution_count": 26,
   "id": "ffe8d81a",
   "metadata": {},
   "outputs": [],
   "source": [
    "dim=10"
   ]
  },
  {
   "cell_type": "code",
   "execution_count": 30,
   "id": "a19caabe",
   "metadata": {},
   "outputs": [],
   "source": [
    "model=Sequential()"
   ]
  },
  {
   "cell_type": "code",
   "execution_count": 31,
   "id": "f7796202",
   "metadata": {},
   "outputs": [],
   "source": [
    "model.add(Embedding(voc_size,10,input_length=sent_length))"
   ]
  },
  {
   "cell_type": "code",
   "execution_count": 32,
   "id": "ff400227",
   "metadata": {},
   "outputs": [],
   "source": [
    "model.compile('adam','mse')"
   ]
  },
  {
   "cell_type": "code",
   "execution_count": 33,
   "id": "5da94e16",
   "metadata": {},
   "outputs": [
    {
     "name": "stdout",
     "output_type": "stream",
     "text": [
      "Model: \"sequential\"\n",
      "_________________________________________________________________\n",
      " Layer (type)                Output Shape              Param #   \n",
      "=================================================================\n",
      " embedding (Embedding)       (None, 10, 10)            100000    \n",
      "                                                                 \n",
      "=================================================================\n",
      "Total params: 100000 (390.62 KB)\n",
      "Trainable params: 100000 (390.62 KB)\n",
      "Non-trainable params: 0 (0.00 Byte)\n",
      "_________________________________________________________________\n"
     ]
    }
   ],
   "source": [
    "model.summary()"
   ]
  },
  {
   "cell_type": "code",
   "execution_count": 36,
   "id": "e23c4e0c",
   "metadata": {},
   "outputs": [
    {
     "data": {
      "text/plain": [
       "array([   0,    0,    0,    0,    0,    0, 6813, 1246, 4907, 1070],\n",
       "      dtype=int32)"
      ]
     },
     "execution_count": 36,
     "metadata": {},
     "output_type": "execute_result"
    }
   ],
   "source": [
    "emedded_docs[0]"
   ]
  },
  {
   "cell_type": "code",
   "execution_count": 35,
   "id": "3f876c7c",
   "metadata": {},
   "outputs": [
    {
     "name": "stdout",
     "output_type": "stream",
     "text": [
      "1/1 [==============================] - 0s 84ms/step\n"
     ]
    },
    {
     "data": {
      "text/plain": [
       "array([[ 0.04973258,  0.01430338,  0.02647534, -0.01339277, -0.04593075,\n",
       "         0.03295536,  0.01023068, -0.03441447,  0.0338526 ,  0.00219437],\n",
       "       [ 0.04973258,  0.01430338,  0.02647534, -0.01339277, -0.04593075,\n",
       "         0.03295536,  0.01023068, -0.03441447,  0.0338526 ,  0.00219437],\n",
       "       [ 0.04973258,  0.01430338,  0.02647534, -0.01339277, -0.04593075,\n",
       "         0.03295536,  0.01023068, -0.03441447,  0.0338526 ,  0.00219437],\n",
       "       [ 0.04973258,  0.01430338,  0.02647534, -0.01339277, -0.04593075,\n",
       "         0.03295536,  0.01023068, -0.03441447,  0.0338526 ,  0.00219437],\n",
       "       [ 0.04973258,  0.01430338,  0.02647534, -0.01339277, -0.04593075,\n",
       "         0.03295536,  0.01023068, -0.03441447,  0.0338526 ,  0.00219437],\n",
       "       [ 0.04973258,  0.01430338,  0.02647534, -0.01339277, -0.04593075,\n",
       "         0.03295536,  0.01023068, -0.03441447,  0.0338526 ,  0.00219437],\n",
       "       [-0.04995466,  0.00613592,  0.02863672, -0.00298036, -0.04239578,\n",
       "         0.04127694,  0.02681794,  0.03730457, -0.04473686, -0.03108714],\n",
       "       [ 0.01189677, -0.03286383,  0.00032266, -0.03556182,  0.02346354,\n",
       "        -0.00941854, -0.00694866,  0.02401717,  0.02825762,  0.01547626],\n",
       "       [-0.00424308,  0.02400361,  0.00504532,  0.04416162,  0.0033609 ,\n",
       "         0.00759041, -0.03815793, -0.00997568,  0.00073401, -0.04600304],\n",
       "       [-0.01996635,  0.0072277 ,  0.04413811,  0.01482915, -0.01022552,\n",
       "        -0.000917  ,  0.03076719,  0.0152475 ,  0.01019087,  0.00238978]],\n",
       "      dtype=float32)"
      ]
     },
     "execution_count": 35,
     "metadata": {},
     "output_type": "execute_result"
    }
   ],
   "source": [
    "model.predict(emedded_docs[0])"
   ]
  },
  {
   "cell_type": "code",
   "execution_count": 37,
   "id": "6a45f1ad",
   "metadata": {},
   "outputs": [],
   "source": [
    "sent=[\"The world is a better place\",\n",
    "      \"Marvel series is my favourite movie\",\n",
    "      \"I like DC movies\",\n",
    "      \"the cat is eating the food\",\n",
    "      \"Tom and Jerry is my favourite movie\",\n",
    "      \"Python is my favourite programming language\"\n",
    "      ]"
   ]
  },
  {
   "cell_type": "markdown",
   "id": "7b57f9c0",
   "metadata": {},
   "source": [
    "## Provide the Vocab_Size"
   ]
  },
  {
   "cell_type": "code",
   "execution_count": 38,
   "id": "b82de7f2",
   "metadata": {},
   "outputs": [],
   "source": [
    "voc_size=10000"
   ]
  },
  {
   "cell_type": "markdown",
   "id": "a7a0a335",
   "metadata": {},
   "source": [
    "## One Hot Representation"
   ]
  },
  {
   "cell_type": "code",
   "execution_count": 41,
   "id": "cedf9816",
   "metadata": {},
   "outputs": [],
   "source": [
    "from tensorflow.keras.preprocessing.text import one_hot"
   ]
  },
  {
   "cell_type": "code",
   "execution_count": 39,
   "id": "8f05f2c3",
   "metadata": {},
   "outputs": [],
   "source": [
    "ohe_repr=[one_hot(words,voc_size) for words in sent]"
   ]
  },
  {
   "cell_type": "code",
   "execution_count": 40,
   "id": "00f70fa7",
   "metadata": {},
   "outputs": [
    {
     "data": {
      "text/plain": [
       "[[6813, 6066, 1045, 2514, 8414, 4463],\n",
       " [7069, 2930, 1045, 5309, 4779, 4354],\n",
       " [3724, 5473, 5583, 3780],\n",
       " [6813, 4163, 1045, 8832, 6813, 2464],\n",
       " [4491, 7886, 9736, 1045, 5309, 4779, 4354],\n",
       " [7875, 1045, 5309, 4779, 8970, 327]]"
      ]
     },
     "execution_count": 40,
     "metadata": {},
     "output_type": "execute_result"
    }
   ],
   "source": [
    "ohe_repr"
   ]
  },
  {
   "cell_type": "markdown",
   "id": "c9952439",
   "metadata": {},
   "source": [
    "## Word Embedding Representation"
   ]
  },
  {
   "cell_type": "code",
   "execution_count": 42,
   "id": "a1d13138",
   "metadata": {},
   "outputs": [],
   "source": [
    "from tensorflow.keras.layers import Embedding\n",
    "from tensorflow.keras.preprocessing.sequence import pad_sequences\n",
    "from tensorflow.keras.models import Sequential"
   ]
  },
  {
   "cell_type": "code",
   "execution_count": 43,
   "id": "75b7116f",
   "metadata": {},
   "outputs": [],
   "source": [
    "sent_length=12"
   ]
  },
  {
   "cell_type": "code",
   "execution_count": 44,
   "id": "6aca158b",
   "metadata": {},
   "outputs": [],
   "source": [
    "emedded_docs=pad_sequences(ohe_repr,padding='pre',maxlen=sent_length)"
   ]
  },
  {
   "cell_type": "code",
   "execution_count": 45,
   "id": "45305375",
   "metadata": {},
   "outputs": [],
   "source": [
    "dim=10"
   ]
  },
  {
   "cell_type": "code",
   "execution_count": 46,
   "id": "3af39c99",
   "metadata": {},
   "outputs": [],
   "source": [
    "model=Sequential()"
   ]
  },
  {
   "cell_type": "code",
   "execution_count": 47,
   "id": "5641be42",
   "metadata": {},
   "outputs": [],
   "source": [
    "model.add(Embedding(voc_size,10,input_length=sent_length))"
   ]
  },
  {
   "cell_type": "code",
   "execution_count": 48,
   "id": "0af5e703",
   "metadata": {},
   "outputs": [],
   "source": [
    "model.compile('adam','mse')"
   ]
  },
  {
   "cell_type": "code",
   "execution_count": 49,
   "id": "c9463884",
   "metadata": {},
   "outputs": [
    {
     "name": "stdout",
     "output_type": "stream",
     "text": [
      "Model: \"sequential_1\"\n",
      "_________________________________________________________________\n",
      " Layer (type)                Output Shape              Param #   \n",
      "=================================================================\n",
      " embedding_1 (Embedding)     (None, 12, 10)            100000    \n",
      "                                                                 \n",
      "=================================================================\n",
      "Total params: 100000 (390.62 KB)\n",
      "Trainable params: 100000 (390.62 KB)\n",
      "Non-trainable params: 0 (0.00 Byte)\n",
      "_________________________________________________________________\n"
     ]
    }
   ],
   "source": [
    "model.summary()"
   ]
  },
  {
   "cell_type": "code",
   "execution_count": 50,
   "id": "0c194170",
   "metadata": {},
   "outputs": [
    {
     "data": {
      "text/plain": [
       "array([   0,    0,    0,    0,    0,    0, 6813, 6066, 1045, 2514, 8414,\n",
       "       4463], dtype=int32)"
      ]
     },
     "execution_count": 50,
     "metadata": {},
     "output_type": "execute_result"
    }
   ],
   "source": [
    "emedded_docs[0]"
   ]
  },
  {
   "cell_type": "code",
   "execution_count": 51,
   "id": "5459f194",
   "metadata": {},
   "outputs": [
    {
     "name": "stdout",
     "output_type": "stream",
     "text": [
      "1/1 [==============================] - 0s 26ms/step\n"
     ]
    },
    {
     "data": {
      "text/plain": [
       "array([[-0.01213616,  0.04154095,  0.02756781, -0.01345231, -0.03191205,\n",
       "         0.01435051, -0.02867824, -0.0444105 , -0.03310736,  0.01583575],\n",
       "       [-0.01213616,  0.04154095,  0.02756781, -0.01345231, -0.03191205,\n",
       "         0.01435051, -0.02867824, -0.0444105 , -0.03310736,  0.01583575],\n",
       "       [-0.01213616,  0.04154095,  0.02756781, -0.01345231, -0.03191205,\n",
       "         0.01435051, -0.02867824, -0.0444105 , -0.03310736,  0.01583575],\n",
       "       [-0.01213616,  0.04154095,  0.02756781, -0.01345231, -0.03191205,\n",
       "         0.01435051, -0.02867824, -0.0444105 , -0.03310736,  0.01583575],\n",
       "       [-0.01213616,  0.04154095,  0.02756781, -0.01345231, -0.03191205,\n",
       "         0.01435051, -0.02867824, -0.0444105 , -0.03310736,  0.01583575],\n",
       "       [-0.01213616,  0.04154095,  0.02756781, -0.01345231, -0.03191205,\n",
       "         0.01435051, -0.02867824, -0.0444105 , -0.03310736,  0.01583575],\n",
       "       [ 0.01647336, -0.04895823, -0.03419895, -0.02570728, -0.04277211,\n",
       "         0.03287378, -0.03375705, -0.02497561, -0.0169739 ,  0.01999957],\n",
       "       [-0.01109529, -0.0397175 ,  0.02138492, -0.02693388, -0.01063888,\n",
       "        -0.00167299, -0.03325298,  0.03591696, -0.02229611,  0.02570919],\n",
       "       [ 0.03882224,  0.04024677, -0.00137811, -0.01383441,  0.02808896,\n",
       "        -0.04360092,  0.00957059,  0.00516055, -0.03945544, -0.02744006],\n",
       "       [ 0.01235332, -0.04948084, -0.02256864,  0.0289653 ,  0.00309644,\n",
       "        -0.00967506, -0.01081944, -0.02848017, -0.04453367, -0.00011579],\n",
       "       [ 0.04722613,  0.02746334, -0.0438858 ,  0.04653765, -0.0397321 ,\n",
       "        -0.04586759, -0.04089551,  0.01345546, -0.00735301, -0.02771924],\n",
       "       [-0.02307103,  0.00078347,  0.04258079,  0.02389082,  0.00425921,\n",
       "        -0.04765845, -0.01100429,  0.04773435, -0.02243208, -0.03434111]],\n",
       "      dtype=float32)"
      ]
     },
     "execution_count": 51,
     "metadata": {},
     "output_type": "execute_result"
    }
   ],
   "source": [
    "model.predict(emedded_docs[0])"
   ]
  },
  {
   "cell_type": "code",
   "execution_count": null,
   "id": "977378b4",
   "metadata": {},
   "outputs": [],
   "source": []
  }
 ],
 "metadata": {
  "kernelspec": {
   "display_name": "Python 3 (ipykernel)",
   "language": "python",
   "name": "python3"
  },
  "language_info": {
   "codemirror_mode": {
    "name": "ipython",
    "version": 3
   },
   "file_extension": ".py",
   "mimetype": "text/x-python",
   "name": "python",
   "nbconvert_exporter": "python",
   "pygments_lexer": "ipython3",
   "version": "3.11.5"
  }
 },
 "nbformat": 4,
 "nbformat_minor": 5
}
