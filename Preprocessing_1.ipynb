{
  "nbformat": 4,
  "nbformat_minor": 0,
  "metadata": {
    "colab": {
      "provenance": [],
      "toc_visible": true,
      "authorship_tag": "ABX9TyP8oN9bCA3w5qEEqqNCXL+X",
      "include_colab_link": true
    },
    "kernelspec": {
      "name": "python3",
      "display_name": "Python 3"
    },
    "language_info": {
      "name": "python"
    },
    "accelerator": "TPU"
  },
  "cells": [
    {
      "cell_type": "markdown",
      "metadata": {
        "id": "view-in-github",
        "colab_type": "text"
      },
      "source": [
        "<a href=\"https://colab.research.google.com/github/vallirajasekar/NLP_Learning/blob/main/Preprocessing_1.ipynb\" target=\"_parent\"><img src=\"https://colab.research.google.com/assets/colab-badge.svg\" alt=\"Open In Colab\"/></a>"
      ]
    },
    {
      "cell_type": "code",
      "execution_count": 1,
      "metadata": {
        "id": "_A2adfq4-ljv"
      },
      "outputs": [],
      "source": [
        "import pandas as pd"
      ]
    },
    {
      "cell_type": "markdown",
      "source": [
        "## Unzip the Content"
      ],
      "metadata": {
        "id": "hDEMESfRCYfd"
      }
    },
    {
      "cell_type": "code",
      "source": [
        "import os\n",
        "print(os.getcwd())"
      ],
      "metadata": {
        "colab": {
          "base_uri": "https://localhost:8080/"
        },
        "id": "Db661ye6AfhK",
        "outputId": "25b04f04-633f-467b-b68d-65079efe0705"
      },
      "execution_count": 3,
      "outputs": [
        {
          "output_type": "stream",
          "name": "stdout",
          "text": [
            "/content\n"
          ]
        }
      ]
    },
    {
      "cell_type": "code",
      "source": [
        "ls /content\n"
      ],
      "metadata": {
        "colab": {
          "base_uri": "https://localhost:8080/"
        },
        "id": "pwtQCr4UA-TZ",
        "outputId": "08751afd-35e7-4bd0-c0c1-3801ab4e6e5e"
      },
      "execution_count": 6,
      "outputs": [
        {
          "output_type": "stream",
          "name": "stdout",
          "text": [
            "'IMDB Dataset.csv.zip'   \u001b[0m\u001b[01;34msample_data\u001b[0m/\n"
          ]
        }
      ]
    },
    {
      "cell_type": "code",
      "source": [
        "!unzip -q /content/IMDB\\ Dataset.csv.zip -d /content\n"
      ],
      "metadata": {
        "id": "obokb0V4BRaS"
      },
      "execution_count": 9,
      "outputs": []
    },
    {
      "cell_type": "code",
      "source": [
        "data_path=\"/content/IMDB Dataset.csv\""
      ],
      "metadata": {
        "id": "VHKvvB1gBUF5"
      },
      "execution_count": 10,
      "outputs": []
    },
    {
      "cell_type": "markdown",
      "source": [
        "## Importing the Content"
      ],
      "metadata": {
        "id": "463w7bzzCfgZ"
      }
    },
    {
      "cell_type": "code",
      "source": [],
      "metadata": {
        "id": "5EjrYQevCeXb"
      },
      "execution_count": null,
      "outputs": []
    },
    {
      "cell_type": "code",
      "source": [
        "df=pd.read_csv('/content/IMDB Dataset.csv')"
      ],
      "metadata": {
        "id": "yxB6Ue24BocS"
      },
      "execution_count": 12,
      "outputs": []
    },
    {
      "cell_type": "code",
      "source": [
        "df.shape"
      ],
      "metadata": {
        "colab": {
          "base_uri": "https://localhost:8080/"
        },
        "id": "1wEryxEdBte7",
        "outputId": "5792faae-2011-468c-c21c-b3e0ec4146f0"
      },
      "execution_count": 13,
      "outputs": [
        {
          "output_type": "execute_result",
          "data": {
            "text/plain": [
              "(50000, 2)"
            ]
          },
          "metadata": {},
          "execution_count": 13
        }
      ]
    },
    {
      "cell_type": "code",
      "source": [
        "df['review']"
      ],
      "metadata": {
        "colab": {
          "base_uri": "https://localhost:8080/"
        },
        "id": "rbskIS7oBxf5",
        "outputId": "c1293a92-a910-4010-dea5-e819fdc6fcce"
      },
      "execution_count": 14,
      "outputs": [
        {
          "output_type": "execute_result",
          "data": {
            "text/plain": [
              "0        One of the other reviewers has mentioned that ...\n",
              "1        A wonderful little production. <br /><br />The...\n",
              "2        I thought this was a wonderful way to spend ti...\n",
              "3        Basically there's a family where a little boy ...\n",
              "4        Petter Mattei's \"Love in the Time of Money\" is...\n",
              "                               ...                        \n",
              "49995    I thought this movie did a down right good job...\n",
              "49996    Bad plot, bad dialogue, bad acting, idiotic di...\n",
              "49997    I am a Catholic taught in parochial elementary...\n",
              "49998    I'm going to have to disagree with the previou...\n",
              "49999    No one expects the Star Trek movies to be high...\n",
              "Name: review, Length: 50000, dtype: object"
            ]
          },
          "metadata": {},
          "execution_count": 14
        }
      ]
    },
    {
      "cell_type": "markdown",
      "source": [
        "# Preproceesing the Content"
      ],
      "metadata": {
        "id": "aU9ak8hfCm7Y"
      }
    },
    {
      "cell_type": "code",
      "source": [],
      "metadata": {
        "id": "np9Mpm13ClFd"
      },
      "execution_count": null,
      "outputs": []
    },
    {
      "cell_type": "markdown",
      "source": [
        "# Lowering the Word"
      ],
      "metadata": {
        "id": "ZygwJIBSDe1j"
      }
    },
    {
      "cell_type": "code",
      "source": [
        "df['review']=df['review'].str.lower()"
      ],
      "metadata": {
        "id": "xG7K2afQB21q"
      },
      "execution_count": 17,
      "outputs": []
    },
    {
      "cell_type": "markdown",
      "source": [
        "# Remove HTML Tags"
      ],
      "metadata": {
        "id": "HbAiItULDkFX"
      }
    },
    {
      "cell_type": "code",
      "source": [
        "import re\n",
        "def remove_html_tags(text):\n",
        "    pattern = re.compile('<.*?>')\n",
        "    return pattern.sub(r'', text)"
      ],
      "metadata": {
        "id": "8GOaE1t9C9UH"
      },
      "execution_count": 20,
      "outputs": []
    },
    {
      "cell_type": "code",
      "source": [
        "df['review'] = df['review'].apply(remove_html_tags)"
      ],
      "metadata": {
        "id": "ns3TF1JFCKAE"
      },
      "execution_count": 22,
      "outputs": []
    },
    {
      "cell_type": "markdown",
      "source": [
        "# Remove URL"
      ],
      "metadata": {
        "id": "qJ8eJDL8DqDZ"
      }
    },
    {
      "cell_type": "code",
      "source": [
        "def remove_url(text):\n",
        "     pattern = re.compile(r'https?://\\S+|www\\.\\S+')\n",
        "     return pattern.sub(r'', text)"
      ],
      "metadata": {
        "id": "814rMYhDDME5"
      },
      "execution_count": 23,
      "outputs": []
    },
    {
      "cell_type": "code",
      "source": [
        "df['review'] = df['review'].apply(remove_url)"
      ],
      "metadata": {
        "id": "eSszkj_lEAED"
      },
      "execution_count": 24,
      "outputs": []
    },
    {
      "cell_type": "markdown",
      "source": [
        "# Remove Punctuations"
      ],
      "metadata": {
        "id": "u9soYKcCD6sk"
      }
    },
    {
      "cell_type": "code",
      "source": [
        "def remove_punc1(text, exclude):\n",
        "    return text.translate(str.maketrans('', '', exclude))\n"
      ],
      "metadata": {
        "id": "2rC9eUVDE257"
      },
      "execution_count": 30,
      "outputs": []
    },
    {
      "cell_type": "code",
      "source": [
        "from string import punctuation\n"
      ],
      "metadata": {
        "id": "hzB94U8qFDEa"
      },
      "execution_count": 32,
      "outputs": []
    },
    {
      "cell_type": "code",
      "source": [
        "df['review'] = df['review'].apply(remove_punc1, exclude=punctuation)\n"
      ],
      "metadata": {
        "id": "rAwSuRM9EyR8"
      },
      "execution_count": 33,
      "outputs": []
    },
    {
      "cell_type": "markdown",
      "source": [
        "# Chat_Conversion Handle"
      ],
      "metadata": {
        "id": "P5DB1YK1FNNZ"
      }
    },
    {
      "cell_type": "code",
      "source": [
        "chat_words = {\n",
        "'AFAIK':'As Far As I Know',\n",
        "'AFK':'Away From Keyboard',\n",
        "'ASAP':'As Soon As Possible',\n",
        "\"FYI\": \"For Your Information\",\n",
        "\"ASAP\": \"As Soon As Possible\",\n",
        "\"BRB\": \"Be Right Back\",\n",
        "\"BTW\": \"By The Way\",\n",
        "\"OMG\": \"Oh My God\",\n",
        "\"IMO\": \"In My Opinion\",\n",
        "\"LOL\": \"Laugh Out Loud\",\n",
        "\"TTYL\": \"Talk To You Later\",\n",
        "\"GTG\": \"Got To Go\",\n",
        "\"TTYT\": \"Talk To You Tomorrow\",\n",
        "\"IDK\": \"I Don't Know\",\n",
        "\"TMI\": \"Too Much Information\",\n",
        "\"IMHO\": \"In My Humble Opinion\",\n",
        "\"ICYMI\": \"In Case You Missed It\",\n",
        "\"AFAIK\": \"As Far As I Know\",\n",
        "\"BTW\": \"By The Way\",\n",
        "\"FAQ\": \"Frequently Asked Questions\",\n",
        "\"TGIF\": \"Thank God It's Friday\",\n",
        "\"FYA\": \"For Your Action\",\n",
        "\"ICYMI\": \"In Case You Missed It\",\n",
        "}"
      ],
      "metadata": {
        "id": "BbX_LoezFO0o"
      },
      "execution_count": 34,
      "outputs": []
    },
    {
      "cell_type": "code",
      "source": [
        "def chat_conversion(text):\n",
        "    new_text = []\n",
        "    for w in text.split():\n",
        "        if w.upper() in chat_words:\n",
        "            new_text.append(chat_words[w.upper()])\n",
        "        else:\n",
        "            new_text.append(w)\n",
        "    return \" \".join(new_text)\n"
      ],
      "metadata": {
        "id": "QDWGewDdGCl9"
      },
      "execution_count": 37,
      "outputs": []
    },
    {
      "cell_type": "code",
      "source": [
        "df['review'] = df['review'].apply(chat_conversion)\n"
      ],
      "metadata": {
        "id": "6aKs4WnWGE54"
      },
      "execution_count": 38,
      "outputs": []
    },
    {
      "cell_type": "code",
      "source": [
        "from textblob import TextBlob"
      ],
      "metadata": {
        "id": "cEn5aR2bGQR2"
      },
      "execution_count": 39,
      "outputs": []
    },
    {
      "cell_type": "code",
      "source": [
        "incorrect_text = 'ceertain conditionas duriing seveal ggenerations aree moodified in the saame maner.'\n",
        "textBlb = TextBlob(incorrect_text)\n",
        "textBlb.correct().string"
      ],
      "metadata": {
        "colab": {
          "base_uri": "https://localhost:8080/",
          "height": 35
        },
        "id": "qt5nB_htHBAr",
        "outputId": "cf324c88-d212-45ac-8a63-99c1ea748268"
      },
      "execution_count": 40,
      "outputs": [
        {
          "output_type": "execute_result",
          "data": {
            "text/plain": [
              "'certain conditions during several generations are modified in the same manner.'"
            ],
            "application/vnd.google.colaboratory.intrinsic+json": {
              "type": "string"
            }
          },
          "metadata": {},
          "execution_count": 40
        }
      ]
    },
    {
      "cell_type": "code",
      "source": [
        "\n",
        "from nltk.corpus import stopwords\n",
        "import nltk\n",
        "nltk.download('stopwords')"
      ],
      "metadata": {
        "colab": {
          "base_uri": "https://localhost:8080/"
        },
        "id": "tz167yKgJiwZ",
        "outputId": "4be51758-69cb-4ac3-be1f-8928badbdc3e"
      },
      "execution_count": 45,
      "outputs": [
        {
          "output_type": "stream",
          "name": "stderr",
          "text": [
            "[nltk_data] Downloading package stopwords to /root/nltk_data...\n",
            "[nltk_data]   Unzipping corpora/stopwords.zip.\n"
          ]
        },
        {
          "output_type": "execute_result",
          "data": {
            "text/plain": [
              "True"
            ]
          },
          "metadata": {},
          "execution_count": 45
        }
      ]
    },
    {
      "cell_type": "code",
      "source": [],
      "metadata": {
        "id": "bHtZcUepJklQ"
      },
      "execution_count": null,
      "outputs": []
    }
  ]
}