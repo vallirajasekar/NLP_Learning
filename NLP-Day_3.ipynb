{
 "cells": [
  {
   "cell_type": "code",
   "execution_count": 36,
   "id": "5f1c8d16",
   "metadata": {},
   "outputs": [],
   "source": [
    "import nltk"
   ]
  },
  {
   "cell_type": "code",
   "execution_count": 37,
   "id": "7d71f48b",
   "metadata": {},
   "outputs": [],
   "source": [
    "paragraph='''Virat Kohli (Hindi pronunciation: [ʋɪˈɾɑːʈ ˈkoːɦli] ⓘ; born 5 November 1988) is an Indian international cricketer and the former captain of the Indian national cricket team. He currently represents Royal Challengers Bangalore in the IPL and Delhi in domestic cricket. Kohli is widely regarded as one of the greatest batsmen in the history of the sport.[3] He is the highest run scorer in T20I and IPL. In 2020, the International Cricket Council named him the male cricketer of the decade. Kohli is currently fourth-highest run-scorer in international cricket and stands second in the list of most international centuries scored. He also holds the record for scoring the most centuries in One Day International cricket.[4][5] Kohli was a member of the Indian team that won the 2011 Cricket World Cup and 2013 ICC Champions Trophy.\n",
    "\n",
    "Born and raised in New Delhi, Kohli trained at the West Delhi Cricket Academy and started his youth career with the Delhi Under-15 team. He made his international debut in 2008 and quickly became a key player in the ODI team. He made his T20I debut in 2010 and later made scoring iTest debut in 2011. In 2013, Kohli reached the number one spot in the ICC rankings for ODI batsmen for the first time. During 2014 T20 World Cup, he set a record for the most runs scored in the tournament. In 2018, he achieved yet another milestone, becoming the world's top-ranked Test batsman, making him the only Indian cricketer to hold the number one spot in all three formats of the game. His form continued in 2019, when he became the first player to score 20,000 international runs in a single decade. In 2021, Kohli made the decision to step down as the captain of the Indian national team for T20Is, following the T20 World Cup and in early 2022 he stepped down as the captain of the Test team as well.\n",
    "\n",
    "He has received many accolades for his performances on the cricket field. He was recognized as the ICC ODI Player of the Year in 2012 and has won the Sir Garfield Sobers Trophy, given to the ICC Cricketer of the Year, on two occasions, in 2017 and 2018 respectively. Subsequently, Kohli also won ICC Test Player of the Year and ICC ODI Player of the Year awards in 2018, becoming the first player to win both awards in the same year. Additionally, he was named the Wisden Leading Cricketer in the World for three consecutive years, from 2016 to 2018. At the national level, Kohli was honoured with the Arjuna Award in 2013, the Padma Shri under the sports category in 2017 and the Khel Ratna award, India's highest sporting honour, in 2018.\n",
    "\n",
    "In 2016, he was ranked as one of the world's most famous athletes by ESPN, and one of the most valuable athlete brands by Forbes. In 2018, Time magazine included him on its list of the 100 most influential people in the world. In 2020, he was ranked 66th in Forbes list of the top 100 highest-paid athletes in the world for the year 2020 with estimated earnings of over $26 million. Kohli has been deemed one of the most commercially viable cricketers, with estimated earnings of ₹165 crore (US$21 million) in the year 2022.\n",
    "\n",
    "Early life\n",
    "Virat Kohli was born on 5 November 1988 in Delhi into a Punjabi Hindu family. His father, Prem Kohli, worked as a criminal lawyer and his mother, Saroj Kohli, served as a housewife. He has an older brother, Vikas, and an older sister, Bhawna.[6] Kohli's formative years were spent in Uttam Nagar. He commenced his early education at Vishal Bharti Public School.[7] According to his family, Kohli exhibited an early affinity for cricket as a mere three-year-old. He would pick up a cricket bat, display natural skill, and request his father to bowl to him.[8]\n",
    "\n",
    "In 1998, the West Delhi Cricket Academy (WCDA) was created. On 30 May of that year, Prem Kohli, who'd espoused his younger son's fervour for cricket, assisted nine-year-old Kohli's aspirations and arranged for him to meet Rajkumar Sharma, who initially perceived him to be just another enthusiastic and determined young boy. However, two weeks later, Sharma was impressed by Kohli's accuracy and power in throwing.[9] Upon the suggestion of their neighbours, Kohli's father considered enrolling his son in a professional cricket academy, as they believed that his cricketing abilities merited more than just playing in gully cricket.[10] Despite his abilities, he faced the setback of being unable to secure a place in the under-14 Delhi team, not due to a lack of merit but due to extraneous factors. Prem Kohli received offers to relocate his son to influential clubs, which would have ensured his selection, but he declined the proposals, as he was determined that Kohli should earn his recognition based on his own merit and overcome the system of nepotism and deceit prevalent in the Delhi and District Cricket Association (DDCA). Kohli persisted and eventually found his way into the under-15 Delhi team.[11] He received training at the academy while simultaneously participating in matches at the Sumeet Dogra Academy located at Vasundhara Enclave.[12] As per Sharma's recollection of Kohli's initial days at his academy, he exuded remarkable talent, making it arduous for the coach to curb his enthusiasm. Kohli remained prepared to bat at any position, and often, Sharma had to physically coerce him to leave the training sessions, as he was reluctant to depart.[13] In pursuit of furthering his cricketing career, he transitioned to Saviour Convent School during his ninth-grade education.[10] Kohli's ardent passion for cricket compelled him to travel long distances with his father to ensure that he never missed a match. With time, he diligently honed his skills and diversified his range of shots, commanding respect from the local bowlers.[14]\n",
    "\n",
    "On 18 December 2006, Kohli experienced the loss of his father due to a cerebral attack.[10][15] During his childhood, his father played a crucial role in supporting his cricket training. Kohli has credited his father as the one who drove him to practice every day. He has expressed his feelings of missing his father's presence at times.[7][16] Following the demise of Kohli's father, his mother observed a significant change in his personality. Kohli appeared to become more mature overnight, and he began taking every cricket match seriously. He harboured an aversion to exclusion from games and appeared to channel his entire existence into the pursuit of cricket following his father's untimely demise.[10] Kohli's family resided in Meera Bagh, Paschim Vihar until the year 2015, after which they relocated to Gurgaon.[17]\n",
    "\n",
    "Youth and domestic career\n",
    "Delhi\n",
    "Kohli's junior cricket career kicked off in October 2002 at the Luhnu cricket ground in a Polly Umrigar match against the host state of Himachal Pradesh. In his debut match, Kohli managed to score a total of fifteen runs. His first half-century in national cricket came at Ferozeshah Kotla, where he scored 70 runs against Harayana.[18] By the end of the season, Kohli had amassed a total of 172 runs, emerging as the highest run-scorer for his side with an average of 34.40.[19] During the 2003–04 season, Kohli was appointed as the captain of the under-15 team. In his first match of the season, he scored 54 runs in Delhi's victory over Himachal Pradesh. In the next fixture against Jammu and Kashmir, Kohli scored his maiden century with a score of 119 in a BCCI-conducted game. By the end of the season, he had amassed a total of 390 runs at an average of 78, which included two centuries.[20][21][a] Towards the end of 2004, Kohli earned selection for the 2004–05 Vijay Merchant Trophy with the Delhi under-17 team. In the four matches that he played, Kohli accumulated a total of 470 runs, with his highest score being 251* runs. The team's coach, Ajit Chaudhary, lauded his performance and was particularly impressed with his temperament on the field.[23][24] In the 2005–06 season, Kohli commenced his innings with a score of 227 against Punjab. Following their victory over Uttar Pradesh in the quarter-finals, Delhi was scheduled to play against Baroda in the semi-finals. The team had high expectations from Kohli, who had promised his coach to finish the job. True to his word, Kohli went on to score 228 runs, leading Delhi to victory. The team later secured the tournament with a five-wicket win over Mumbai, where he contributed with a half-century in the first innings.[25] He ended as the highest run-scorer with a total of 757 runs from 7 matches, averaging 84.11.[26]\n",
    "\n",
    "On 18 February 2006, Kohli made his debut in List A cricket, playing against Services in the Ranji One-Day Trophy, but he did not have the opportunity to bat during the match.[27] In 2006, Kohli had garnered enough attention to earn a spot in the state senior team. Subsequently, he made his first-class debut on 23 November 2006, during the opening match of the Ranji Trophy season against Tamil Nadu. However, his debut innings was a brief one, as he was dismissed after scoring ten runs.[28] In a sequence of three matches, Kohli failed to score a fifty, leading his coaches to provide him with counselling. In the subsequent match against former champions, Karnataka, Delhi found themselves trailing with a score of 130/5, with Kohli remaining unbeaten on 40 at the end of the day's play. That very night, Kohli's father passed away at 3:54 a.m. Despite the heart-wrenching news, Kohli returned to the match and continued to bat and scored 90 runs before he was dismissed.[29] The team's coach, Chetan Chauhan was impressed by Kohli's resolute determination and unwavering attitude in the face of adversity. Venkatesh Prasad also lauded his crucial knock, which was executed in the midst of an emotional upheaval.[30] Following his dismissal, Kohli immediately attended his father's funeral. His innings, however, proved to be crucial for Delhi as they were able to avoid the follow-on. The team's captain, Mithun Manhas, praised Kohli for his performance, acknowledging its pivotal role in the team's success.[30]'''"
   ]
  },
  {
   "cell_type": "code",
   "execution_count": 38,
   "id": "96b845b1",
   "metadata": {},
   "outputs": [
    {
     "data": {
      "text/plain": [
       "\"Virat Kohli (Hindi pronunciation: [ʋɪˈɾɑːʈ ˈkoːɦli] ⓘ; born 5 November 1988) is an Indian international cricketer and the former captain of the Indian national cricket team. He currently represents Royal Challengers Bangalore in the IPL and Delhi in domestic cricket. Kohli is widely regarded as one of the greatest batsmen in the history of the sport.[3] He is the highest run scorer in T20I and IPL. In 2020, the International Cricket Council named him the male cricketer of the decade. Kohli is currently fourth-highest run-scorer in international cricket and stands second in the list of most international centuries scored. He also holds the record for scoring the most centuries in One Day International cricket.[4][5] Kohli was a member of the Indian team that won the 2011 Cricket World Cup and 2013 ICC Champions Trophy.\\n\\nBorn and raised in New Delhi, Kohli trained at the West Delhi Cricket Academy and started his youth career with the Delhi Under-15 team. He made his international debut in 2008 and quickly became a key player in the ODI team. He made his T20I debut in 2010 and later made scoring iTest debut in 2011. In 2013, Kohli reached the number one spot in the ICC rankings for ODI batsmen for the first time. During 2014 T20 World Cup, he set a record for the most runs scored in the tournament. In 2018, he achieved yet another milestone, becoming the world's top-ranked Test batsman, making him the only Indian cricketer to hold the number one spot in all three formats of the game. His form continued in 2019, when he became the first player to score 20,000 international runs in a single decade. In 2021, Kohli made the decision to step down as the captain of the Indian national team for T20Is, following the T20 World Cup and in early 2022 he stepped down as the captain of the Test team as well.\\n\\nHe has received many accolades for his performances on the cricket field. He was recognized as the ICC ODI Player of the Year in 2012 and has won the Sir Garfield Sobers Trophy, given to the ICC Cricketer of the Year, on two occasions, in 2017 and 2018 respectively. Subsequently, Kohli also won ICC Test Player of the Year and ICC ODI Player of the Year awards in 2018, becoming the first player to win both awards in the same year. Additionally, he was named the Wisden Leading Cricketer in the World for three consecutive years, from 2016 to 2018. At the national level, Kohli was honoured with the Arjuna Award in 2013, the Padma Shri under the sports category in 2017 and the Khel Ratna award, India's highest sporting honour, in 2018.\\n\\nIn 2016, he was ranked as one of the world's most famous athletes by ESPN, and one of the most valuable athlete brands by Forbes. In 2018, Time magazine included him on its list of the 100 most influential people in the world. In 2020, he was ranked 66th in Forbes list of the top 100 highest-paid athletes in the world for the year 2020 with estimated earnings of over $26 million. Kohli has been deemed one of the most commercially viable cricketers, with estimated earnings of ₹165 crore (US$21 million) in the year 2022.\\n\\nEarly life\\nVirat Kohli was born on 5 November 1988 in Delhi into a Punjabi Hindu family. His father, Prem Kohli, worked as a criminal lawyer and his mother, Saroj Kohli, served as a housewife. He has an older brother, Vikas, and an older sister, Bhawna.[6] Kohli's formative years were spent in Uttam Nagar. He commenced his early education at Vishal Bharti Public School.[7] According to his family, Kohli exhibited an early affinity for cricket as a mere three-year-old. He would pick up a cricket bat, display natural skill, and request his father to bowl to him.[8]\\n\\nIn 1998, the West Delhi Cricket Academy (WCDA) was created. On 30 May of that year, Prem Kohli, who'd espoused his younger son's fervour for cricket, assisted nine-year-old Kohli's aspirations and arranged for him to meet Rajkumar Sharma, who initially perceived him to be just another enthusiastic and determined young boy. However, two weeks later, Sharma was impressed by Kohli's accuracy and power in throwing.[9] Upon the suggestion of their neighbours, Kohli's father considered enrolling his son in a professional cricket academy, as they believed that his cricketing abilities merited more than just playing in gully cricket.[10] Despite his abilities, he faced the setback of being unable to secure a place in the under-14 Delhi team, not due to a lack of merit but due to extraneous factors. Prem Kohli received offers to relocate his son to influential clubs, which would have ensured his selection, but he declined the proposals, as he was determined that Kohli should earn his recognition based on his own merit and overcome the system of nepotism and deceit prevalent in the Delhi and District Cricket Association (DDCA). Kohli persisted and eventually found his way into the under-15 Delhi team.[11] He received training at the academy while simultaneously participating in matches at the Sumeet Dogra Academy located at Vasundhara Enclave.[12] As per Sharma's recollection of Kohli's initial days at his academy, he exuded remarkable talent, making it arduous for the coach to curb his enthusiasm. Kohli remained prepared to bat at any position, and often, Sharma had to physically coerce him to leave the training sessions, as he was reluctant to depart.[13] In pursuit of furthering his cricketing career, he transitioned to Saviour Convent School during his ninth-grade education.[10] Kohli's ardent passion for cricket compelled him to travel long distances with his father to ensure that he never missed a match. With time, he diligently honed his skills and diversified his range of shots, commanding respect from the local bowlers.[14]\\n\\nOn 18 December 2006, Kohli experienced the loss of his father due to a cerebral attack.[10][15] During his childhood, his father played a crucial role in supporting his cricket training. Kohli has credited his father as the one who drove him to practice every day. He has expressed his feelings of missing his father's presence at times.[7][16] Following the demise of Kohli's father, his mother observed a significant change in his personality. Kohli appeared to become more mature overnight, and he began taking every cricket match seriously. He harboured an aversion to exclusion from games and appeared to channel his entire existence into the pursuit of cricket following his father's untimely demise.[10] Kohli's family resided in Meera Bagh, Paschim Vihar until the year 2015, after which they relocated to Gurgaon.[17]\\n\\nYouth and domestic career\\nDelhi\\nKohli's junior cricket career kicked off in October 2002 at the Luhnu cricket ground in a Polly Umrigar match against the host state of Himachal Pradesh. In his debut match, Kohli managed to score a total of fifteen runs. His first half-century in national cricket came at Ferozeshah Kotla, where he scored 70 runs against Harayana.[18] By the end of the season, Kohli had amassed a total of 172 runs, emerging as the highest run-scorer for his side with an average of 34.40.[19] During the 2003–04 season, Kohli was appointed as the captain of the under-15 team. In his first match of the season, he scored 54 runs in Delhi's victory over Himachal Pradesh. In the next fixture against Jammu and Kashmir, Kohli scored his maiden century with a score of 119 in a BCCI-conducted game. By the end of the season, he had amassed a total of 390 runs at an average of 78, which included two centuries.[20][21][a] Towards the end of 2004, Kohli earned selection for the 2004–05 Vijay Merchant Trophy with the Delhi under-17 team. In the four matches that he played, Kohli accumulated a total of 470 runs, with his highest score being 251* runs. The team's coach, Ajit Chaudhary, lauded his performance and was particularly impressed with his temperament on the field.[23][24] In the 2005–06 season, Kohli commenced his innings with a score of 227 against Punjab. Following their victory over Uttar Pradesh in the quarter-finals, Delhi was scheduled to play against Baroda in the semi-finals. The team had high expectations from Kohli, who had promised his coach to finish the job. True to his word, Kohli went on to score 228 runs, leading Delhi to victory. The team later secured the tournament with a five-wicket win over Mumbai, where he contributed with a half-century in the first innings.[25] He ended as the highest run-scorer with a total of 757 runs from 7 matches, averaging 84.11.[26]\\n\\nOn 18 February 2006, Kohli made his debut in List A cricket, playing against Services in the Ranji One-Day Trophy, but he did not have the opportunity to bat during the match.[27] In 2006, Kohli had garnered enough attention to earn a spot in the state senior team. Subsequently, he made his first-class debut on 23 November 2006, during the opening match of the Ranji Trophy season against Tamil Nadu. However, his debut innings was a brief one, as he was dismissed after scoring ten runs.[28] In a sequence of three matches, Kohli failed to score a fifty, leading his coaches to provide him with counselling. In the subsequent match against former champions, Karnataka, Delhi found themselves trailing with a score of 130/5, with Kohli remaining unbeaten on 40 at the end of the day's play. That very night, Kohli's father passed away at 3:54 a.m. Despite the heart-wrenching news, Kohli returned to the match and continued to bat and scored 90 runs before he was dismissed.[29] The team's coach, Chetan Chauhan was impressed by Kohli's resolute determination and unwavering attitude in the face of adversity. Venkatesh Prasad also lauded his crucial knock, which was executed in the midst of an emotional upheaval.[30] Following his dismissal, Kohli immediately attended his father's funeral. His innings, however, proved to be crucial for Delhi as they were able to avoid the follow-on. The team's captain, Mithun Manhas, praised Kohli for his performance, acknowledging its pivotal role in the team's success.[30]\""
      ]
     },
     "execution_count": 38,
     "metadata": {},
     "output_type": "execute_result"
    }
   ],
   "source": [
    "paragraph"
   ]
  },
  {
   "cell_type": "code",
   "execution_count": 39,
   "id": "a5a57ae7",
   "metadata": {},
   "outputs": [],
   "source": [
    "sentences=nltk.sent_tokenize(paragraph)"
   ]
  },
  {
   "cell_type": "code",
   "execution_count": 40,
   "id": "be97eb60",
   "metadata": {},
   "outputs": [],
   "source": [
    "from nltk.stem import PorterStemmer\n",
    "from nltk.corpus import stopwords"
   ]
  },
  {
   "cell_type": "code",
   "execution_count": 42,
   "id": "63276184",
   "metadata": {},
   "outputs": [],
   "source": [
    "corpus = []\n",
    "\n",
    "for i in range(len(sentences)):\n",
    "    review = re.sub('[^a-zA-Z]', ' ', sentences[i])\n",
    "    review = review.lower()\n",
    "    review = review.split()\n",
    "    review = [lemmatizer.lemmatize(word) for word in review if word not in stopwords.words('english')]\n",
    "    review = ' '.join(review)\n",
    "    corpus.append(review)\n"
   ]
  },
  {
   "cell_type": "code",
   "execution_count": 43,
   "id": "26ba3815",
   "metadata": {},
   "outputs": [
    {
     "data": {
      "text/plain": [
       "['virat kohli hindi pronunciation ko li born november indian international cricketer former captain indian national cricket team',\n",
       " 'currently represents royal challenger bangalore ipl delhi domestic cricket',\n",
       " 'kohli widely regarded one greatest batsman history sport',\n",
       " 'highest run scorer ipl',\n",
       " 'international cricket council named male cricketer decade',\n",
       " 'kohli currently fourth highest run scorer international cricket stand second list international century scored',\n",
       " 'also hold record scoring century one day international cricket',\n",
       " 'kohli member indian team cricket world cup icc champion trophy',\n",
       " 'born raised new delhi kohli trained west delhi cricket academy started youth career delhi team',\n",
       " 'made international debut quickly became key player odi team',\n",
       " 'made debut later made scoring itest debut',\n",
       " 'kohli reached number one spot icc ranking odi batsman first time',\n",
       " 'world cup set record run scored tournament',\n",
       " 'achieved yet another milestone becoming world top ranked test batsman making indian cricketer hold number one spot three format game',\n",
       " 'form continued became first player score international run single decade',\n",
       " 'kohli made decision step captain indian national team following world cup early stepped captain test team well',\n",
       " 'received many accolade performance cricket field',\n",
       " 'recognized icc odi player year sir garfield sobers trophy given icc cricketer year two occasion respectively',\n",
       " 'subsequently kohli also icc test player year icc odi player year award becoming first player win award year',\n",
       " 'additionally named wisden leading cricketer world three consecutive year',\n",
       " 'national level kohli honoured arjuna award padma shri sport category khel ratna award india highest sporting honour',\n",
       " 'ranked one world famous athlete espn one valuable athlete brand forbes',\n",
       " 'time magazine included list influential people world',\n",
       " 'ranked th forbes list top highest paid athlete world year estimated earnings million',\n",
       " 'kohli deemed one commercially viable cricketer estimated earnings crore u million year',\n",
       " 'early life virat kohli born november delhi punjabi hindu family',\n",
       " 'father prem kohli worked criminal lawyer mother saroj kohli served housewife',\n",
       " 'older brother vikas older sister bhawna',\n",
       " 'kohli formative year spent uttam nagar',\n",
       " 'commenced early education vishal bharti public school',\n",
       " 'according family kohli exhibited early affinity cricket mere three year old',\n",
       " 'would pick cricket bat display natural skill request father bowl',\n",
       " 'west delhi cricket academy wcda created',\n",
       " 'may year prem kohli espoused younger son fervour cricket assisted nine year old kohli aspiration arranged meet rajkumar sharma initially perceived another enthusiastic determined young boy',\n",
       " 'however two week later sharma impressed kohli accuracy power throwing',\n",
       " 'upon suggestion neighbour kohli father considered enrolling son professional cricket academy believed cricketing ability merited playing gully cricket',\n",
       " 'despite ability faced setback unable secure place delhi team due lack merit due extraneous factor',\n",
       " 'prem kohli received offer relocate son influential club would ensured selection declined proposal determined kohli earn recognition based merit overcome system nepotism deceit prevalent delhi district cricket association ddca',\n",
       " 'kohli persisted eventually found way delhi team',\n",
       " 'received training academy simultaneously participating match sumeet dogra academy located vasundhara enclave',\n",
       " 'per sharma recollection kohli initial day academy exuded remarkable talent making arduous coach curb enthusiasm',\n",
       " 'kohli remained prepared bat position often sharma physically coerce leave training session reluctant depart',\n",
       " 'pursuit furthering cricketing career transitioned saviour convent school ninth grade education',\n",
       " 'kohli ardent passion cricket compelled travel long distance father ensure never missed match',\n",
       " 'time diligently honed skill diversified range shot commanding respect local bowler',\n",
       " 'december kohli experienced loss father due cerebral attack',\n",
       " 'childhood father played crucial role supporting cricket training',\n",
       " 'kohli credited father one drove practice every day',\n",
       " 'expressed feeling missing father presence time',\n",
       " 'following demise kohli father mother observed significant change personality',\n",
       " 'kohli appeared become mature overnight began taking every cricket match seriously',\n",
       " 'harboured aversion exclusion game appeared channel entire existence pursuit cricket following father untimely demise',\n",
       " 'kohli family resided meera bagh paschim vihar year relocated gurgaon',\n",
       " 'youth domestic career delhi kohli junior cricket career kicked october luhnu cricket ground polly umrigar match host state himachal pradesh',\n",
       " 'debut match kohli managed score total fifteen run',\n",
       " 'first half century national cricket came ferozeshah kotla scored run harayana',\n",
       " 'end season kohli amassed total run emerging highest run scorer side average',\n",
       " 'season kohli appointed captain team',\n",
       " 'first match season scored run delhi victory himachal pradesh',\n",
       " 'next fixture jammu kashmir kohli scored maiden century score bcci conducted game',\n",
       " 'end season amassed total run average included two century',\n",
       " 'towards end kohli earned selection vijay merchant trophy delhi team',\n",
       " 'four match played kohli accumulated total run highest score run',\n",
       " 'team coach ajit chaudhary lauded performance particularly impressed temperament field',\n",
       " 'season kohli commenced inning score punjab',\n",
       " 'following victory uttar pradesh quarter final delhi scheduled play baroda semi final',\n",
       " 'team high expectation kohli promised coach finish job',\n",
       " 'true word kohli went score run leading delhi victory',\n",
       " 'team later secured tournament five wicket win mumbai contributed half century first inning',\n",
       " 'ended highest run scorer total run match averaging',\n",
       " 'february kohli made debut list cricket playing service ranji one day trophy opportunity bat match',\n",
       " 'kohli garnered enough attention earn spot state senior team',\n",
       " 'subsequently made first class debut november opening match ranji trophy season tamil nadu',\n",
       " 'however debut inning brief one dismissed scoring ten run',\n",
       " 'sequence three match kohli failed score fifty leading coach provide counselling',\n",
       " 'subsequent match former champion karnataka delhi found trailing score kohli remaining unbeaten end day play',\n",
       " 'night kohli father passed away',\n",
       " 'despite heart wrenching news kohli returned match continued bat scored run dismissed',\n",
       " 'team coach chetan chauhan impressed kohli resolute determination unwavering attitude face adversity',\n",
       " 'venkatesh prasad also lauded crucial knock executed midst emotional upheaval',\n",
       " 'following dismissal kohli immediately attended father funeral',\n",
       " 'inning however proved crucial delhi able avoid follow',\n",
       " 'team captain mithun manhas praised kohli performance acknowledging pivotal role team success',\n",
       " '']"
      ]
     },
     "execution_count": 43,
     "metadata": {},
     "output_type": "execute_result"
    }
   ],
   "source": [
    "corpus"
   ]
  },
  {
   "cell_type": "code",
   "execution_count": 44,
   "id": "7f799c0b",
   "metadata": {},
   "outputs": [],
   "source": [
    "## TF-IDF\n",
    "\n",
    "from sklearn.feature_extraction.text import TfidfVectorizer"
   ]
  },
  {
   "cell_type": "code",
   "execution_count": 45,
   "id": "23c56523",
   "metadata": {},
   "outputs": [],
   "source": [
    "cv=TfidfVectorizer()"
   ]
  },
  {
   "cell_type": "code",
   "execution_count": 47,
   "id": "3eaf5cb4",
   "metadata": {},
   "outputs": [],
   "source": [
    "x=cv.fit_transform(corpus)"
   ]
  },
  {
   "cell_type": "code",
   "execution_count": 49,
   "id": "4180d55c",
   "metadata": {},
   "outputs": [
    {
     "data": {
      "text/plain": [
       "array([[0.        , 0.        , 0.        , 0.        , 0.        ,\n",
       "        0.        , 0.        , 0.        , 0.        , 0.        ,\n",
       "        0.        , 0.        , 0.        , 0.        , 0.        ,\n",
       "        0.        , 0.        , 0.        , 0.        , 0.        ,\n",
       "        0.        , 0.        , 0.        , 0.        , 0.        ,\n",
       "        0.        , 0.        , 0.        , 0.        , 0.        ,\n",
       "        0.        , 0.        , 0.        , 0.        , 0.        ,\n",
       "        0.        , 0.        , 0.        , 0.        , 0.        ,\n",
       "        0.        , 0.        , 0.        , 0.        , 0.        ,\n",
       "        0.        , 0.        , 0.        , 0.        , 0.        ,\n",
       "        0.2387367 , 0.        , 0.        , 0.        , 0.        ,\n",
       "        0.        , 0.        , 0.        , 0.22560359, 0.        ,\n",
       "        0.        , 0.        , 0.        , 0.        , 0.        ,\n",
       "        0.        , 0.        , 0.        , 0.        , 0.        ,\n",
       "        0.        , 0.        , 0.        , 0.        , 0.        ,\n",
       "        0.        , 0.        , 0.        , 0.        , 0.        ,\n",
       "        0.        , 0.        , 0.        , 0.        , 0.        ,\n",
       "        0.        , 0.        , 0.        , 0.        , 0.13840383,\n",
       "        0.20580053, 0.        , 0.        , 0.        , 0.        ,\n",
       "        0.        , 0.        , 0.        , 0.        , 0.        ,\n",
       "        0.        , 0.        , 0.        , 0.        , 0.        ,\n",
       "        0.        , 0.        , 0.        , 0.        , 0.        ,\n",
       "        0.        , 0.        , 0.        , 0.        , 0.        ,\n",
       "        0.        , 0.        , 0.        , 0.        , 0.        ,\n",
       "        0.        , 0.        , 0.        , 0.        , 0.        ,\n",
       "        0.        , 0.        , 0.        , 0.        , 0.        ,\n",
       "        0.        , 0.        , 0.        , 0.        , 0.        ,\n",
       "        0.        , 0.        , 0.        , 0.        , 0.        ,\n",
       "        0.        , 0.        , 0.        , 0.        , 0.        ,\n",
       "        0.        , 0.        , 0.        , 0.        , 0.        ,\n",
       "        0.        , 0.        , 0.        , 0.        , 0.        ,\n",
       "        0.        , 0.        , 0.        , 0.        , 0.        ,\n",
       "        0.        , 0.        , 0.        , 0.        , 0.        ,\n",
       "        0.        , 0.        , 0.        , 0.        , 0.        ,\n",
       "        0.        , 0.        , 0.        , 0.        , 0.        ,\n",
       "        0.        , 0.        , 0.        , 0.        , 0.        ,\n",
       "        0.25566821, 0.        , 0.        , 0.        , 0.        ,\n",
       "        0.        , 0.        , 0.        , 0.        , 0.        ,\n",
       "        0.        , 0.        , 0.        , 0.        , 0.        ,\n",
       "        0.        , 0.        , 0.        , 0.        , 0.        ,\n",
       "        0.        , 0.        , 0.27953184, 0.        , 0.        ,\n",
       "        0.        , 0.        , 0.        , 0.        , 0.        ,\n",
       "        0.        , 0.        , 0.        , 0.        , 0.        ,\n",
       "        0.        , 0.        , 0.45120718, 0.        , 0.        ,\n",
       "        0.        , 0.        , 0.20580053, 0.        , 0.        ,\n",
       "        0.        , 0.        , 0.        , 0.        , 0.        ,\n",
       "        0.        , 0.        , 0.        , 0.        , 0.27953184,\n",
       "        0.09372673, 0.        , 0.        , 0.        , 0.        ,\n",
       "        0.        , 0.        , 0.        , 0.        , 0.27953184,\n",
       "        0.        , 0.        , 0.        , 0.        , 0.        ,\n",
       "        0.        , 0.        , 0.        , 0.        , 0.        ,\n",
       "        0.        , 0.        , 0.        , 0.        , 0.        ,\n",
       "        0.        , 0.        , 0.        , 0.        , 0.        ,\n",
       "        0.        , 0.        , 0.        , 0.        , 0.        ,\n",
       "        0.        , 0.        , 0.        , 0.        , 0.        ,\n",
       "        0.        , 0.        , 0.        , 0.        , 0.        ,\n",
       "        0.        , 0.22560359, 0.        , 0.        , 0.        ,\n",
       "        0.        , 0.        , 0.        , 0.        , 0.        ,\n",
       "        0.        , 0.        , 0.2387367 , 0.        , 0.        ,\n",
       "        0.        , 0.        , 0.        , 0.        , 0.        ,\n",
       "        0.        , 0.        , 0.        , 0.        , 0.        ,\n",
       "        0.        , 0.        , 0.        , 0.        , 0.        ,\n",
       "        0.        , 0.        , 0.        , 0.        , 0.        ,\n",
       "        0.        , 0.        , 0.        , 0.        , 0.        ,\n",
       "        0.        , 0.        , 0.        , 0.        , 0.        ,\n",
       "        0.        , 0.        , 0.        , 0.        , 0.        ,\n",
       "        0.        , 0.        , 0.        , 0.        , 0.        ,\n",
       "        0.        , 0.        , 0.        , 0.        , 0.        ,\n",
       "        0.        , 0.27953184, 0.        , 0.        , 0.        ,\n",
       "        0.        , 0.        , 0.        , 0.        , 0.        ,\n",
       "        0.        , 0.        , 0.        , 0.        , 0.        ,\n",
       "        0.        , 0.        , 0.        , 0.        , 0.        ,\n",
       "        0.        , 0.        , 0.        , 0.        , 0.        ,\n",
       "        0.        , 0.        , 0.        , 0.        , 0.        ,\n",
       "        0.        , 0.        , 0.        , 0.        , 0.        ,\n",
       "        0.        , 0.        , 0.        , 0.        , 0.        ,\n",
       "        0.        , 0.        , 0.        , 0.        , 0.        ,\n",
       "        0.        , 0.        , 0.        , 0.        , 0.        ,\n",
       "        0.        , 0.        , 0.        , 0.        , 0.        ,\n",
       "        0.        , 0.        , 0.        , 0.        , 0.        ,\n",
       "        0.        , 0.        , 0.        , 0.        , 0.        ,\n",
       "        0.        , 0.        , 0.        , 0.        , 0.        ,\n",
       "        0.        , 0.        , 0.        , 0.        , 0.        ,\n",
       "        0.        , 0.        , 0.        , 0.        , 0.        ,\n",
       "        0.        , 0.        , 0.        , 0.        , 0.        ,\n",
       "        0.        , 0.        , 0.        , 0.        , 0.        ,\n",
       "        0.        , 0.        , 0.        , 0.        , 0.15714641,\n",
       "        0.        , 0.        , 0.        , 0.        , 0.        ,\n",
       "        0.        , 0.        , 0.        , 0.        , 0.        ,\n",
       "        0.        , 0.        , 0.        , 0.        , 0.        ,\n",
       "        0.        , 0.        , 0.        , 0.        , 0.        ,\n",
       "        0.        , 0.        , 0.        , 0.        , 0.        ,\n",
       "        0.        , 0.        , 0.        , 0.        , 0.        ,\n",
       "        0.        , 0.        , 0.        , 0.        , 0.        ,\n",
       "        0.        , 0.25566821, 0.        , 0.        , 0.        ,\n",
       "        0.        , 0.        , 0.        , 0.        , 0.        ,\n",
       "        0.        , 0.        , 0.        , 0.        , 0.        ,\n",
       "        0.        , 0.        , 0.        , 0.        , 0.        ,\n",
       "        0.        , 0.        , 0.        ]])"
      ]
     },
     "execution_count": 49,
     "metadata": {},
     "output_type": "execute_result"
    }
   ],
   "source": [
    "x[0].toarray()"
   ]
  },
  {
   "cell_type": "code",
   "execution_count": null,
   "id": "ec7d19a2",
   "metadata": {},
   "outputs": [],
   "source": []
  }
 ],
 "metadata": {
  "kernelspec": {
   "display_name": "Python 3 (ipykernel)",
   "language": "python",
   "name": "python3"
  },
  "language_info": {
   "codemirror_mode": {
    "name": "ipython",
    "version": 3
   },
   "file_extension": ".py",
   "mimetype": "text/x-python",
   "name": "python",
   "nbconvert_exporter": "python",
   "pygments_lexer": "ipython3",
   "version": "3.11.5"
  }
 },
 "nbformat": 4,
 "nbformat_minor": 5
}
